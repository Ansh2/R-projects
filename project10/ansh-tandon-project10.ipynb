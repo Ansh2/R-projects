{
 "cells": [
  {
   "cell_type": "markdown",
   "id": "be02a957-7133-4d02-818e-fedeb3cecb05",
   "metadata": {},
   "source": [
    "# Project 10 -- Ansh Tandon"
   ]
  },
  {
   "cell_type": "markdown",
   "id": "a1228853-dd19-4ab2-89e0-0394d7d72de3",
   "metadata": {},
   "source": [
    "**TA Help:** John Smith, Alice Jones\n",
    "\n",
    "- Help with figuring out how to write a function.\n",
    "    \n",
    "**Collaboration:** Friend1, Friend2\n",
    "    \n",
    "- Helped figuring out how to load the dataset.\n",
    "- Helped debug error with my plot."
   ]
  },
  {
   "cell_type": "markdown",
   "id": "6180e742-8e39-4698-98ff-5b00c8cf8ea0",
   "metadata": {},
   "source": [
    "## Question 1"
   ]
  },
  {
   "cell_type": "code",
   "execution_count": 2,
   "id": "49445606-d363-41b4-b479-e319a9a84c01",
   "metadata": {},
   "outputs": [],
   "source": [
    "library(data.table)"
   ]
  },
  {
   "cell_type": "code",
   "execution_count": 3,
   "id": "7322d2d4-9b29-4b06-b79a-244e04d8bcd7",
   "metadata": {},
   "outputs": [],
   "source": [
    "options(jupyter.rich_display = F)"
   ]
  },
  {
   "cell_type": "code",
   "execution_count": 5,
   "id": "e4cd5064-6688-4af2-b81b-4da56997a9b9",
   "metadata": {},
   "outputs": [],
   "source": [
    "options(repr.matrix.max.cols=30, repr.matrix.max.rows=200)"
   ]
  },
  {
   "cell_type": "code",
   "execution_count": 6,
   "id": "86d13e32-5b99-4202-ad68-5d52d8e5ce8b",
   "metadata": {},
   "outputs": [],
   "source": [
    "orders <- fread(\"/anvil/projects/tdm/data/restaurant/orders.csv\")"
   ]
  },
  {
   "cell_type": "code",
   "execution_count": 7,
   "id": "7df66559-412f-46dc-b556-8d6299dc6b13",
   "metadata": {},
   "outputs": [],
   "source": [
    "vendors<- fread(\"/anvil/projects/tdm/data/restaurant/vendors.csv\")"
   ]
  },
  {
   "cell_type": "code",
   "execution_count": 8,
   "id": "6b3955ce-f06a-4307-bd25-9bd13af0b6f1",
   "metadata": {},
   "outputs": [
    {
     "data": {
      "text/plain": [
       "  id authentication_id latitude   longitude vendor_category_en\n",
       "1  4 118597            -0.5885962 0.7544341 Restaurants       \n",
       "2 13 118608            -0.4716538 0.7444705 Restaurants       \n",
       "3 20 118616            -0.4075269 0.6436807 Restaurants       \n",
       "4 23 118619            -0.5853846 0.7538114 Restaurants       \n",
       "5 28 118624             0.4806019 0.5528505 Restaurants       \n",
       "6 33 118629            -0.4946538 0.7433182 Restaurants       \n",
       "  vendor_category_id delivery_charge serving_distance is_open OpeningTime    \n",
       "1 2                  0.0              6               1       11:00AM-11:30PM\n",
       "2 2                  0.7              5               1       08:30AM-10:30PM\n",
       "3 2                  0.0              8               1       08:00AM-10:45PM\n",
       "4 2                  0.0              5               1       10:59AM-10:30PM\n",
       "5 2                  0.7             15               1       11:00AM-11:45PM\n",
       "6 2                  0.7              6               1       11:00AM-10:30PM\n",
       "  OpeningTime2 prepration_time commission is_akeed_delivering\n",
       "1 -            15              0          Yes                \n",
       "2 -            14              0          Yes                \n",
       "3 -            19              0          Yes                \n",
       "4 -            16              0          Yes                \n",
       "5 -            10              0          Yes                \n",
       "6 -            17              0          Yes                \n",
       "  discount_percentage ... saturday_from_time1 saturday_to_time1\n",
       "1 0                   ... 00:00:00            00:30:00         \n",
       "2 0                   ... 00:00:00            01:30:00         \n",
       "3 0                   ... 08:00:00            22:45:00         \n",
       "4 0                   ... 09:00:00            23:45:00         \n",
       "5 0                   ... 00:01:00            01:30:00         \n",
       "6 0                   ... 08:30:00            23:59:00         \n",
       "  saturday_from_time2 saturday_to_time2 primary_tags             \n",
       "1 10:00:00            23:59:00          {\"\"primary_tags\"\":\"\"4\"\"} \n",
       "2 08:00:00            23:59:00          {\"\"primary_tags\"\":\"\"7\"\"} \n",
       "3                                       {\"\"primary_tags\"\":\"\"71\"\"}\n",
       "4                                       {\"\"primary_tags\"\":\"\"46\"\"}\n",
       "5 17:45:00            23:59:00          {\"\"primary_tags\"\":\"\"32\"\"}\n",
       "6 00:00:00            01:00:00          {\"\"primary_tags\"\":\"\"51\"\"}\n",
       "  open_close_flags vendor_tag               \n",
       "1 1                2,4,5,8,91,22,12,24,16,23\n",
       "2 1                4,41,51,34,27,15,24,16,28\n",
       "3 1                4,8,91,10                \n",
       "4 1                5,8,30,24                \n",
       "5 1                5                        \n",
       "6 1                8,42                     \n",
       "  vendor_tag_name                                                                           \n",
       "1 Arabic,Breakfast,Burgers,Desserts,Free Delivery,Grills,Lebanese,Salads,Sandwiches,Shawarma\n",
       "2 Breakfast,Cakes,Crepes,Italian,Pasta,Pizzas,Salads,Sandwiches,Soups                       \n",
       "3 Breakfast,Desserts,Free Delivery,Indian                                                   \n",
       "4 Burgers,Desserts,Fries,Salads                                                             \n",
       "5 Burgers                                                                                   \n",
       "6 Desserts,Mexican                                                                          \n",
       "  one_click_vendor country_id city_id created_at          updated_at         \n",
       "1 Y                1          1       2018-01-30 14:42:04 2020-04-07 15:12:43\n",
       "2 Y                1          1       2018-05-03 12:32:06 2020-04-05 20:46:03\n",
       "3 Y                1          1       2018-05-04 22:28:22 2020-04-07 16:35:55\n",
       "4 Y                1          1       2018-05-06 19:20:48 2020-04-02 00:56:17\n",
       "5 Y                1          1       2018-05-17 22:12:38 2020-04-05 15:57:41\n",
       "6 Y                1          1       2018-05-24 17:23:13 2020-04-07 15:04:57\n",
       "  device_type display_orders\n",
       "1 3           1             \n",
       "2 3           1             \n",
       "3 3           1             \n",
       "4 3           1             \n",
       "5 3           1             \n",
       "6 3           1             "
      ]
     },
     "metadata": {},
     "output_type": "display_data"
    }
   ],
   "source": [
    "head(vendors)"
   ]
  },
  {
   "cell_type": "code",
   "execution_count": 12,
   "id": "ab05548b-63f7-415e-bb50-125bd999bbbb",
   "metadata": {},
   "outputs": [
    {
     "data": {
      "text/plain": [
       "[1] \"Arabic,Breakfast,Burgers,Desserts,Free Delivery,Grills,Lebanese,Salads,Sandwiches,Shawarma\"\n",
       "[2] \"Breakfast,Cakes,Crepes,Italian,Pasta,Pizzas,Salads,Sandwiches,Soups\"                       \n",
       "[3] \"Breakfast,Desserts,Free Delivery,Indian\"                                                   \n",
       "[4] \"Burgers,Desserts,Fries,Salads\"                                                             \n",
       "[5] \"Burgers\"                                                                                   \n",
       "[6] \"Desserts,Mexican\"                                                                          "
      ]
     },
     "metadata": {},
     "output_type": "display_data"
    }
   ],
   "source": [
    "head(vendors$vendor_tag_name)"
   ]
  },
  {
   "cell_type": "code",
   "execution_count": 13,
   "id": "db0784ef-5ba3-4dc9-8e04-76d5a2934eb9",
   "metadata": {},
   "outputs": [
    {
     "data": {
      "text/plain": [
       "\n",
       "                                                                                           \n",
       "                                                                                         3 \n",
       "  American,Breakfast,Burgers,Cafe,Desserts,Free Delivery,Fries,Ice creams,Kids meal,Salads \n",
       "                                                                                         7 \n",
       "                American,Breakfast,Burgers,Desserts,Italian,Salads,Sandwiches,Soups,Steaks \n",
       "                                                                                         1 \n",
       "                                               American,Breakfast,Burgers,Fries,Sandwiches \n",
       "                                                                                         1 \n",
       "                                                American,Breakfast,Rolls,Salads,Sandwiches \n",
       "                                                                                         1 \n",
       "                            American,Burgers,Desserts,Donuts,Fries,Pasta,Salads,Sandwiches \n",
       "                                                                                         1 \n",
       "                          American,Burgers,Desserts,Free Delivery,Fries,Hot Dogs,Kids meal \n",
       "                                                                                         1 \n",
       "                            American,Burgers,Desserts,Free Delivery,Fries,Kids meal,Salads \n",
       "                                                                                         1 \n",
       "                                                  American,Burgers,Desserts,Mojitos ,Pasta \n",
       "                                                                                         1 \n",
       "                                             American,Burgers,Free Delivery,Hot Dogs,Pasta \n",
       "                                                                                         3 \n",
       "                                                           American,Burgers,Fries,Mojitos  \n",
       "                                                                                         1 \n",
       "                                                         American,Burgers,Fries,Sandwiches \n",
       "                                                                                         2 \n",
       "                        American,Burgers,Kids meal,Pasta,Sandwiches,Smoothies,Soups,Steaks \n",
       "                                                                                         2 \n",
       "                                                     American,Burgers,Kids meal,Sandwiches \n",
       "                                                                                         1 \n",
       "                                                American,Burgers,Mishkak,Salads,Sandwiches \n",
       "                                                                                         1 \n",
       "                                                               American,Burgers,Sandwiches \n",
       "                                                                                         1 \n",
       "                                                    American,Kids meal,Pasta,Pizzas,Salads \n",
       "                                                                                         1 \n",
       "                                                        American,Sandwiches,Hot Dogs,Fries \n",
       "                                                                                         1 \n",
       "                                                                                    Arabic \n",
       "                                                                                         1 \n",
       "                               Arabic,Biryani,Chinese,Grills,Indian,Rice,Salads,Soups,Thai \n",
       "                                                                                         1 \n",
       "Arabic,Breakfast,Burgers,Desserts,Free Delivery,Grills,Lebanese,Salads,Sandwiches,Shawarma \n",
       "                                                                                         1 \n",
       "                                 Arabic,Breakfast,Desserts,Mandazi,Omani,Salads,Sandwiches \n",
       "                                                                                         1 \n",
       "                                 Arabic,Burgers,Sandwiches,Shawarma,Grills,Pizzas,Desserts \n",
       "                                                                                         1 \n",
       "                                                      Arabic,Desserts,Free Delivery,Indian \n",
       "                                                                                         1 \n",
       "                                    Arabic,Grills,Indian,Pasta,Salads,Seafood,Soups,Sweets \n",
       "                                                                                         1 \n",
       "                                                                 Arabic,Kushari,Sandwiches \n",
       "                                                                                         1 \n",
       "                                                                  Arabic,Pizzas,Sandwiches \n",
       "                                                                                         1 \n",
       "                                         Asian,Desserts,Healthy Food,Japanese,Salads,Sushi \n",
       "                                                                                         1 \n",
       "                                                     Asian,Desserts,Rice,Salads,Soups,Thai \n",
       "                                                                                         1 \n",
       "                                                   Asian,Dimsum,Grills,Japanese,Rice,Soups \n",
       "                                                                                         1 \n",
       "                                                              Asian,Fresh Juices,Kids meal \n",
       "                                                                                         1 \n",
       "                                                                    Bagels,Desserts,Salads \n",
       "                                                                                         1 \n",
       "                                                       Biryani,Desserts,Indian,Kebabs,Rice \n",
       "                                                                                         3 \n",
       "                                             Biryani,Desserts,Indian,Rice,Thali,Vegetarian \n",
       "                                                                                         1 \n",
       "                                                             Biryani,Desserts,Indian,Soups \n",
       "                                                                                         1 \n",
       "                                                  Breakfast,Burgers,Desserts,Indian,Salads \n",
       "                                                                                         1 \n",
       "                                        Breakfast,Burgers,Grills,Pizza,Sandwiches,Shawarma \n",
       "                                                                                         1 \n",
       "                       Breakfast,Cakes,Crepes,Italian,Pasta,Pizzas,Salads,Sandwiches,Soups \n",
       "                                                                                         1 \n",
       "                                                   Breakfast,Desserts,Free Delivery,Indian \n",
       "                                                                                         1 \n",
       "                              Breakfast,Desserts,Grills,Milkshakes,Salads,Sandwiches,Soups \n",
       "                                                                                         3 \n",
       "                            Breakfast,Desserts,Lebanese,Manakeesh,Pizzas,Salads,Sandwiches \n",
       "                                                                                         1 \n",
       "                                                          Breakfast,Desserts,Salads,Arabic \n",
       "                                                                                         1 \n",
       "                           Breakfast,Free Delivery,Fresh Juices,Fries,Karak,Mojitos ,Rolls \n",
       "                                                                                         1 \n",
       "                                                                                   Burgers \n",
       "                                                                                         1 \n",
       "                                                       Burgers,Desserts,Family Meal,Salads \n",
       "                                                                                         1 \n",
       "                                             Burgers,Desserts,Free Delivery,Grills,Mexican \n",
       "                                                                                         1 \n",
       "                                           Burgers,Desserts,Free Delivery,Pasta,Sandwiches \n",
       "                                                                                         2 \n",
       "                                                             Burgers,Desserts,Fries,Salads \n",
       "                                                                                         1 \n",
       "                                                            Burgers,Desserts,Pastry,Pizzas \n",
       "                                                                                         1 \n",
       "                                                 Burgers,Free Delivery,Milkshakes,Mojitos  \n",
       "                                                                                         1 \n",
       "                                   Burgers,Fries,Grills,Mishkak,Mojitos ,Sandwiches,Sweets \n",
       "                                                                                         1 \n",
       "                                                          Burgers,Fries,Kids meal,Shawarma \n",
       "                                                                                         1 \n",
       "                                         Burgers,Healthy Food,Milkshakes,Sandwiches,Steaks \n",
       "                                                                                         1 \n",
       " Cakes,Crepes,Desserts,Donuts,Fresh Juices,Ice creams,Milkshakes,Mojitos ,Pancakes,Waffles \n",
       "                                                                                         1 \n",
       "          Cakes,Crepes,Desserts,Donuts,Fresh Juices,Ice creams,Milkshakes,Pancakes,Waffles \n",
       "                                                                                         1 \n",
       "                                                                              Cakes,Donuts \n",
       "                                                                                         1 \n",
       "                                                                                   Churros \n",
       "                                                                                         1 \n",
       "                                    Coffee,Fresh Juices,Hot Chocolate,Sandwiches,Smoothies \n",
       "                                                                                         3 \n",
       "                                                                            Coffee,Organic \n",
       "                                                                                         1 \n",
       "                                                     Coffee,Pancakes,Spanish Latte,Waffles \n",
       "                                                                                         1 \n",
       "                                                    Combos,Fries,Mojitos ,Pasta,Sandwiches \n",
       "                                                                                         1 \n",
       "           Desserts,Free Delivery,Fresh Juices,Healthy Food,Ice creams,Milkshakes,Mojitos  \n",
       "                                                                                         1 \n",
       "                                                Desserts,Free Delivery,Healthy Food,Sweets \n",
       "                                                                                         1 \n",
       "                                                                          Desserts,Mexican \n",
       "                                                                                         1 \n",
       "                                                                            Desserts,Omani \n",
       "                                                                                         1 \n",
       "                                                              Fatayers,Mojitos ,Sandwiches \n",
       "                                                                                         1 \n",
       "                                       Free Delivery,Fresh Juices,Pastas,Salads,Sandwiches \n",
       "                                                                                         1 \n",
       "                                                              Free Delivery,Mexican,Salads \n",
       "                                                                                         1 \n",
       "                                                       Fresh Juices,Healthy Food,Smoothies \n",
       "                                                                                         1 \n",
       "                                                 Fresh Juices,Lebanese,Sandwiches,Shawarma \n",
       "                                                                                         1 \n",
       "                                      Fresh Juices,Milkshakes,Mojitos ,Sandwiches,Shawarma \n",
       "                                                                                         2 \n",
       "                                                          Fresh Juices,Sandwiches,Shawarma \n",
       "                                                                                         3 \n",
       "                                                                  Frozen yoghurt,Smoothies \n",
       "                                                                                         1 \n",
       "                                                    Italian,Pasta,Pizzas,Salads,Sandwiches \n",
       "                                                                                         1 \n",
       "                                              Omani,Arabic,Shuwa,Pasta,Rice,Soups,Lebanese \n",
       "                                                                                         1 \n",
       "                                      Pizzas,Italian,Breakfast,Soups,Pasta,Salads,Desserts \n",
       "                                                                                         1 \n",
       "                                                      Sandwiches,Breakfast,Burgers,Mojitos \n",
       "                                                                                         1 \n",
       "                                       Sandwiches,Shawarma,Fresh Juices,Mojitos,Milkshakes \n",
       "                                                                                         1 "
      ]
     },
     "metadata": {},
     "output_type": "display_data"
    }
   ],
   "source": [
    "table(vendors$vendor_tag_name)"
   ]
  },
  {
   "cell_type": "code",
   "execution_count": 14,
   "id": "89b28c56-134c-4c76-98c9-2b2d8d4f4272",
   "metadata": {},
   "outputs": [
    {
     "data": {
      "text/plain": [
       " [1]  4  7  8 19 46 51 55 57 65 69 72 81 92 93 94 95 96 97 98 99"
      ]
     },
     "metadata": {},
     "output_type": "display_data"
    }
   ],
   "source": [
    "grep(\"Fries\", vendors$vendor_tag_name)"
   ]
  },
  {
   "cell_type": "code",
   "execution_count": 15,
   "id": "94232e9a-7ab8-4616-a8aa-5ee19de68e06",
   "metadata": {},
   "outputs": [
    {
     "data": {
      "text/plain": [
       "  [1] FALSE FALSE FALSE  TRUE FALSE FALSE  TRUE  TRUE FALSE FALSE FALSE FALSE\n",
       " [13] FALSE FALSE FALSE FALSE FALSE FALSE  TRUE FALSE FALSE FALSE FALSE FALSE\n",
       " [25] FALSE FALSE FALSE FALSE FALSE FALSE FALSE FALSE FALSE FALSE FALSE FALSE\n",
       " [37] FALSE FALSE FALSE FALSE FALSE FALSE FALSE FALSE FALSE  TRUE FALSE FALSE\n",
       " [49] FALSE FALSE  TRUE FALSE FALSE FALSE  TRUE FALSE  TRUE FALSE FALSE FALSE\n",
       " [61] FALSE FALSE FALSE FALSE  TRUE FALSE FALSE FALSE  TRUE FALSE FALSE  TRUE\n",
       " [73] FALSE FALSE FALSE FALSE FALSE FALSE FALSE FALSE  TRUE FALSE FALSE FALSE\n",
       " [85] FALSE FALSE FALSE FALSE FALSE FALSE FALSE  TRUE  TRUE  TRUE  TRUE  TRUE\n",
       " [97]  TRUE  TRUE  TRUE FALSE"
      ]
     },
     "metadata": {},
     "output_type": "display_data"
    }
   ],
   "source": [
    "grepl(\"Fries\", vendors$vendor_tag_name)"
   ]
  },
  {
   "cell_type": "code",
   "execution_count": 16,
   "id": "96504e75-647b-44d6-a8ff-14c724198536",
   "metadata": {},
   "outputs": [],
   "source": [
    "newDFOne <- subset(vendors, grepl(\"Fries\", vendor_tag_name))"
   ]
  },
  {
   "cell_type": "code",
   "execution_count": 17,
   "id": "95673186-a42b-4725-b5e4-76110cdd06de",
   "metadata": {},
   "outputs": [
    {
     "data": {
      "text/plain": [
       "[1] 20 59"
      ]
     },
     "metadata": {},
     "output_type": "display_data"
    }
   ],
   "source": [
    "dim(newDFOne)"
   ]
  },
  {
   "cell_type": "code",
   "execution_count": 18,
   "id": "89f173f2-a921-40ba-a9d6-2fdef7060358",
   "metadata": {},
   "outputs": [],
   "source": [
    "myDFTwo <- vendors[grep(\"Fries\", vendors$vendor_tag_name),  ]"
   ]
  },
  {
   "cell_type": "code",
   "execution_count": 19,
   "id": "e3bf7f94-aad6-48d4-8003-ac473de60f98",
   "metadata": {},
   "outputs": [
    {
     "data": {
      "text/plain": [
       "[1] 20 59"
      ]
     },
     "metadata": {},
     "output_type": "display_data"
    }
   ],
   "source": [
    "dim(myDFTwo)"
   ]
  },
  {
   "cell_type": "markdown",
   "id": "b456e57c-4a12-464b-999a-ef2df5af80c1",
   "metadata": {},
   "source": [
    "Markdown notes and sentences and analysis written here."
   ]
  },
  {
   "cell_type": "markdown",
   "id": "fc601975-35ed-4680-a4e1-0273ee3cc047",
   "metadata": {},
   "source": [
    "## Question 2"
   ]
  },
  {
   "cell_type": "code",
   "execution_count": 41,
   "id": "a16336a1-1ef0-41e8-bc7c-49387db27497",
   "metadata": {},
   "outputs": [
    {
     "data": {
      "text/plain": [
       "[1] 0.0 0.7 0.0 0.0 0.7 0.7"
      ]
     },
     "metadata": {},
     "output_type": "display_data"
    }
   ],
   "source": [
    "head(vendors$delivery_charge)"
   ]
  },
  {
   "cell_type": "code",
   "execution_count": 45,
   "id": "e7d4bcf7-92d8-4493-b10a-0b983d2f0993",
   "metadata": {},
   "outputs": [
    {
     "data": {
      "text/plain": [
       "[1] 100"
      ]
     },
     "metadata": {},
     "output_type": "display_data"
    }
   ],
   "source": [
    "length(vendors$delivery_charge)"
   ]
  },
  {
   "cell_type": "code",
   "execution_count": 46,
   "id": "57bf20f9-cc84-417e-81ec-0ee4a9b951d8",
   "metadata": {},
   "outputs": [
    {
     "data": {
      "text/plain": [
       "\n",
       "  0 0.7 \n",
       " 41  59 "
      ]
     },
     "metadata": {},
     "output_type": "display_data"
    }
   ],
   "source": [
    "table(vendors$delivery_charge) #these are the counts: 41 of 0 and 59 of 0.7"
   ]
  },
  {
   "cell_type": "code",
   "execution_count": 47,
   "id": "52585791-6b78-4c9f-a475-e0b719eed324",
   "metadata": {},
   "outputs": [
    {
     "data": {
      "text/plain": [
       "\n",
       "   0  0.7 \n",
       "0.41 0.59 "
      ]
     },
     "metadata": {},
     "output_type": "display_data"
    }
   ],
   "source": [
    "prop.table(table(vendors$delivery_charge)) #these are the percentages"
   ]
  },
  {
   "cell_type": "markdown",
   "id": "14dc22d4-ddc3-41cc-a91a-cb0025bc0c80",
   "metadata": {},
   "source": [
    "Markdown notes and sentences and analysis written here."
   ]
  },
  {
   "cell_type": "markdown",
   "id": "8e586edd-ff26-4ce2-8f6b-2424b26f2929",
   "metadata": {},
   "source": [
    "## Question 3"
   ]
  },
  {
   "cell_type": "code",
   "execution_count": 48,
   "id": "bbe0f40d-9655-4653-9ca8-886bdb61cb91",
   "metadata": {},
   "outputs": [
    {
     "data": {
      "text/plain": [
       " [1] 0.0 0.7 0.0 0.0 0.7 0.7 0.7 0.7 0.7 0.0 0.0 0.7 0.7 0.7 0.0 0.0 0.7 0.7 0.0\n",
       "[20] 0.0 0.7 0.0 0.0 0.0 0.7 0.0 0.0 0.0 0.0 0.7 0.7 0.7 0.7 0.0 0.7 0.7 0.7 0.7\n",
       "[39] 0.7 0.7 0.7 0.7 0.7 0.7 0.0 0.7 0.7 0.7 0.7 0.0 0.7 0.7 0.7 0.0 0.7 0.0 0.7\n",
       "[58] 0.0 0.7 0.0 0.7 0.7 0.7 0.7 0.7 0.0 0.7 0.7 0.7 0.0 0.0 0.7 0.0 0.7 0.7 0.7\n",
       "[77] 0.7 0.7 0.7 0.7 0.0 0.0 0.0 0.0 0.0 0.0 0.0 0.0 0.7"
      ]
     },
     "metadata": {},
     "output_type": "display_data"
    }
   ],
   "source": [
    "vendors$delivery_charge[vendors$vendor_category_id == 2]"
   ]
  },
  {
   "cell_type": "code",
   "execution_count": 51,
   "id": "3ded644f-9715-4342-89cd-abe3b79c9cfb",
   "metadata": {},
   "outputs": [
    {
     "data": {
      "text/plain": [
       "\n",
       "  0 0.7 \n",
       " 35  54 "
      ]
     },
     "metadata": {},
     "output_type": "display_data"
    }
   ],
   "source": [
    "table(vendors$delivery_charge[vendors$vendor_category_id == 2])"
   ]
  },
  {
   "cell_type": "code",
   "execution_count": 52,
   "id": "3f39795e-89b3-48b1-9e36-6e7e30b9fe1c",
   "metadata": {},
   "outputs": [
    {
     "data": {
      "text/plain": [
       "\n",
       "        0       0.7 \n",
       "0.3932584 0.6067416 "
      ]
     },
     "metadata": {},
     "output_type": "display_data"
    }
   ],
   "source": [
    "prop.table(table(vendors$delivery_charge[vendors$vendor_category_id == 2]))"
   ]
  },
  {
   "cell_type": "code",
   "execution_count": 49,
   "id": "eff8e9cc-bd07-4c4c-b041-d8f1c2a7dfb8",
   "metadata": {},
   "outputs": [
    {
     "data": {
      "text/plain": [
       " [1] 0.0 0.0 0.7 0.0 0.7 0.7 0.0 0.7 0.0 0.7 0.0"
      ]
     },
     "metadata": {},
     "output_type": "display_data"
    }
   ],
   "source": [
    "vendors$delivery_charge[vendors$vendor_category_id == 3]"
   ]
  },
  {
   "cell_type": "code",
   "execution_count": 53,
   "id": "ef5af839-afe0-4a51-91f8-5c9d1377b399",
   "metadata": {},
   "outputs": [
    {
     "data": {
      "text/plain": [
       "\n",
       "  0 0.7 \n",
       "  6   5 "
      ]
     },
     "metadata": {},
     "output_type": "display_data"
    }
   ],
   "source": [
    "table(vendors$delivery_charge[vendors$vendor_category_id == 3])"
   ]
  },
  {
   "cell_type": "code",
   "execution_count": 54,
   "id": "19f485fa-101f-464b-a50d-bd6ab2f238ee",
   "metadata": {},
   "outputs": [
    {
     "data": {
      "text/plain": [
       "\n",
       "        0       0.7 \n",
       "0.5454545 0.4545455 "
      ]
     },
     "metadata": {},
     "output_type": "display_data"
    }
   ],
   "source": [
    "prop.table(table(vendors$delivery_charge[vendors$vendor_category_id == 3]))"
   ]
  },
  {
   "cell_type": "markdown",
   "id": "47c6229f-35f7-400c-8366-c442baa5cf47",
   "metadata": {},
   "source": [
    "Markdown notes and sentences and analysis written here."
   ]
  },
  {
   "cell_type": "markdown",
   "id": "da22f29c-d245-4d2b-9fc1-ca14cb6087d9",
   "metadata": {},
   "source": [
    "## Question 4"
   ]
  },
  {
   "cell_type": "code",
   "execution_count": 55,
   "id": "8cffc767-d1c8-4d64-b7dc-f0d2ee8a80d1",
   "metadata": {},
   "outputs": [
    {
     "data": {
      "text/plain": [
       "\n",
       "  0 0.7 \n",
       " 35  54 "
      ]
     },
     "metadata": {},
     "output_type": "display_data"
    }
   ],
   "source": [
    "table(vendors$delivery_charge[vendors$vendor_category_id == 2])"
   ]
  },
  {
   "cell_type": "code",
   "execution_count": 56,
   "id": "62cda046-1a77-469f-9b5c-36b3387315b0",
   "metadata": {},
   "outputs": [
    {
     "data": {
      "text/plain": [
       "\n",
       "  0 0.7 \n",
       "  6   5 "
      ]
     },
     "metadata": {},
     "output_type": "display_data"
    }
   ],
   "source": [
    "table(vendors$delivery_charge[vendors$vendor_category_id == 3])"
   ]
  },
  {
   "cell_type": "code",
   "execution_count": 58,
   "id": "fb32c9e0-0d06-4278-a775-d092d64a44df",
   "metadata": {},
   "outputs": [
    {
     "data": {
      "text/plain": [
       "$`2`\n",
       "\n",
       "  0 0.7 \n",
       " 35  54 \n",
       "\n",
       "$`3`\n",
       "\n",
       "  0 0.7 \n",
       "  6   5 \n"
      ]
     },
     "metadata": {},
     "output_type": "display_data"
    }
   ],
   "source": [
    "tapply(vendors$delivery_charge, vendors$vendor_category_id, table)"
   ]
  },
  {
   "cell_type": "code",
   "execution_count": 59,
   "id": "f58d90ff-1522-4216-8311-adeac79b9d18",
   "metadata": {},
   "outputs": [
    {
     "data": {
      "text/plain": [
       "$`2`\n",
       "x\n",
       "  0 0.7 \n",
       " 35  54 \n",
       "\n",
       "$`3`\n",
       "x\n",
       "  0 0.7 \n",
       "  6   5 \n"
      ]
     },
     "metadata": {},
     "output_type": "display_data"
    }
   ],
   "source": [
    "tapply(vendors$delivery_charge, vendors$vendor_category_id, function(x) {table(x)})"
   ]
  },
  {
   "cell_type": "code",
   "execution_count": 60,
   "id": "0a1b4f50-d3b4-4ea9-bdc7-5b1b0a714162",
   "metadata": {},
   "outputs": [
    {
     "data": {
      "text/plain": [
       "$`2`\n",
       "x\n",
       "        0       0.7 \n",
       "0.3932584 0.6067416 \n",
       "\n",
       "$`3`\n",
       "x\n",
       "        0       0.7 \n",
       "0.5454545 0.4545455 \n"
      ]
     },
     "metadata": {},
     "output_type": "display_data"
    }
   ],
   "source": [
    "tapply(vendors$delivery_charge, vendors$vendor_category_id, function(x) {prop.table(table(x))})"
   ]
  },
  {
   "cell_type": "markdown",
   "id": "0d552245-b4d6-474a-9cc9-fa7b8e674d55",
   "metadata": {},
   "source": [
    "Markdown notes and sentences and analysis written here."
   ]
  },
  {
   "cell_type": "markdown",
   "id": "88c9cdac-3e92-498f-83fa-e089bfc44ac8",
   "metadata": {},
   "source": [
    "## Question 5"
   ]
  },
  {
   "cell_type": "code",
   "execution_count": 64,
   "id": "d370d7c9-06db-42b9-b75f-240481a5c491",
   "metadata": {},
   "outputs": [
    {
     "data": {
      "text/plain": [
       "$`2`\n",
       "\n",
       "  0 0.7 \n",
       " 35  54 \n",
       "\n",
       "$`3`\n",
       "\n",
       "  0 0.7 \n",
       "  6   5 \n"
      ]
     },
     "metadata": {},
     "output_type": "display_data"
    }
   ],
   "source": [
    "tapply(vendors$delivery_charge, vendors$vendor_category_id, table)"
   ]
  },
  {
   "cell_type": "code",
   "execution_count": 67,
   "id": "dcb12bee-701b-4152-89ae-6f9d4fd09890",
   "metadata": {},
   "outputs": [
    {
     "data": {
      "text/plain": [
       "$`2`\n",
       "\n",
       "        0       0.7 \n",
       "0.3932584 0.6067416 \n",
       "\n",
       "$`3`\n",
       "\n",
       "        0       0.7 \n",
       "0.5454545 0.4545455 \n"
      ]
     },
     "metadata": {},
     "output_type": "display_data"
    }
   ],
   "source": [
    "sapply(tapply(vendors$delivery_charge, vendors$vendor_category_id, table), prop.table, simplify=FALSE)"
   ]
  },
  {
   "cell_type": "markdown",
   "id": "9fbf00fb-2418-460f-ae94-2a32b0c28952",
   "metadata": {},
   "source": [
    "Markdown notes and sentences and analysis written here."
   ]
  },
  {
   "cell_type": "markdown",
   "id": "f76442d6-d02e-4f26-b9d6-c3183e1d6929",
   "metadata": {},
   "source": [
    "## Pledge\n",
    "\n",
    "By submitting this work I hereby pledge that this is my own, personal work. I've acknowledged in the designated place at the top of this file all sources that I used to complete said work, including but not limited to: online resources, books, and electronic communications. I've noted all collaboration with fellow students and/or TA's. I did not copy or plagiarize another's work.\n",
    "\n",
    "> As a Boilermaker pursuing academic excellence, I pledge to be honest and true in all that I do. Accountable together – We are Purdue."
   ]
  }
 ],
 "metadata": {
  "kernelspec": {
   "display_name": "seminar-r",
   "language": "R",
   "name": "seminar-r"
  },
  "language_info": {
   "codemirror_mode": "r",
   "file_extension": ".r",
   "mimetype": "text/x-r-source",
   "name": "R",
   "pygments_lexer": "r",
   "version": "4.3.1"
  }
 },
 "nbformat": 4,
 "nbformat_minor": 5
}
