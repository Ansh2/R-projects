{
 "cells": [
  {
   "cell_type": "markdown",
   "id": "be02a957-7133-4d02-818e-fedeb3cecb05",
   "metadata": {},
   "source": [
    "# Project 07 - Ansh Tandon"
   ]
  },
  {
   "cell_type": "markdown",
   "id": "a1228853-dd19-4ab2-89e0-0394d7d72de3",
   "metadata": {},
   "source": [
    "**TA Help:** John Smith, Alice Jones\n",
    "\n",
    "- Help with figuring out how to write a function.\n",
    "    \n",
    "**Collaboration:** Friend1, Friend2\n",
    "    \n",
    "- Helped figuring out how to load the dataset.\n",
    "- Helped debug error with my plot."
   ]
  },
  {
   "cell_type": "markdown",
   "id": "6180e742-8e39-4698-98ff-5b00c8cf8ea0",
   "metadata": {},
   "source": [
    "## Question 1"
   ]
  },
  {
   "cell_type": "code",
   "execution_count": 1,
   "id": "49445606-d363-41b4-b479-e319a9a84c01",
   "metadata": {},
   "outputs": [],
   "source": [
    "options(jupyter.rich_display = F)"
   ]
  },
  {
   "cell_type": "code",
   "execution_count": 4,
   "id": "5ad8fafa-28db-4199-ace5-75b6cc2bdf5d",
   "metadata": {},
   "outputs": [],
   "source": [
    "options(repr.matrix.max.cols=30, repr.matrix.max.rows=200)"
   ]
  },
  {
   "cell_type": "code",
   "execution_count": 5,
   "id": "5c880e95-951c-40db-b48a-b7a57cc417a3",
   "metadata": {},
   "outputs": [],
   "source": [
    "library(data.table)"
   ]
  },
  {
   "cell_type": "code",
   "execution_count": 6,
   "id": "faa8868e-b9bb-41ab-9740-17ca5864ea6b",
   "metadata": {},
   "outputs": [],
   "source": [
    "products <- fread(\"/anvil/projects/tdm/data/icecream/combined/products.csv\")\n",
    "reviews <- fread(\"/anvil/projects/tdm/data/icecream/combined/reviews.csv\")\n",
    "titles <- fread(\"/anvil/projects/tdm/data/movies_and_tv/titles.csv\")\n",
    "episodes <- fread(\"/anvil/projects/tdm/data/movies_and_tv/episodes.csv\")\n",
    "ratings <- fread(\"/anvil/projects/tdm/data/movies_and_tv/ratings.csv\")"
   ]
  },
  {
   "cell_type": "code",
   "execution_count": 10,
   "id": "f9c360cf-5d57-4d1c-9129-26cca2a8030a",
   "metadata": {},
   "outputs": [
    {
     "data": {
      "text/plain": [
       "[1] \"CREAM, SKIM MILK, LIQUID SUGAR (SUGAR, WATER), WATER, BROWN SUGAR, SUGAR, MILK, WHEAT FLOUR, EGG YOLKS, CORN SYRUP, EGGS, BUTTER (CREAM, SALT), BUTTEROIL, PECTIN, SEA SALT, SOYBEAN OIL, VANILLA EXTRACT, GUAR GUM, SOY LECITHIN, BAKING POWDER (SODIUM ACID PYROPHOSPHATE, SODIUM BICARBONATE, CORN STARCH, MONOCALCIUM PHOSPHATE), BAKING SODA, SALT, CARRAGEENAN, LACTASE\""
      ]
     },
     "metadata": {},
     "output_type": "display_data"
    }
   ],
   "source": [
    "head(products$ingredients, n = 1)"
   ]
  },
  {
   "cell_type": "code",
   "execution_count": 11,
   "id": "b1a4a672-2061-4182-94e4-44301c25d7fd",
   "metadata": {},
   "outputs": [
    {
     "data": {
      "text/plain": [
       "[1] 241   8"
      ]
     },
     "metadata": {},
     "output_type": "display_data"
    }
   ],
   "source": [
    "dim(products)"
   ]
  },
  {
   "cell_type": "code",
   "execution_count": 15,
   "id": "d11d24e3-4f87-4dfb-88d2-d0a3f0e9cd01",
   "metadata": {},
   "outputs": [],
   "source": [
    "guargum <- products[grepl(\"GUAR GUM\", products$ingredients)]"
   ]
  },
  {
   "cell_type": "code",
   "execution_count": 19,
   "id": "8888a384-d1f4-4e0f-93e0-5810b93aa935",
   "metadata": {},
   "outputs": [
    {
     "data": {
      "text/plain": [
       "[1] 85  8"
      ]
     },
     "metadata": {},
     "output_type": "display_data"
    }
   ],
   "source": [
    "dim(guargum)"
   ]
  },
  {
   "cell_type": "code",
   "execution_count": 21,
   "id": "8d325be7-e9a6-4a67-836a-c565c9da62cc",
   "metadata": {},
   "outputs": [
    {
     "data": {
      "text/plain": [
       "[1] 85"
      ]
     },
     "metadata": {},
     "output_type": "display_data"
    }
   ],
   "source": [
    "length(grep(\"GUAR GUM\", products$ingredients))"
   ]
  },
  {
   "cell_type": "code",
   "execution_count": 22,
   "id": "d329a444-a551-4003-b046-f9ca57138bb9",
   "metadata": {},
   "outputs": [
    {
     "data": {
      "text/plain": [
       "\n",
       "4.7 4.6 4.4 4.3 3.9 4.5 4.8 3.3 4.2 4.9   4 3.4 3.8 4.1   5 1.8 2.8 2.9 3.2 3.5 \n",
       " 17  10   7   6   5   5   5   4   4   4   3   2   2   2   2   1   1   1   1   1 \n",
       "3.6 3.7 \n",
       "  1   1 "
      ]
     },
     "metadata": {},
     "output_type": "display_data"
    }
   ],
   "source": [
    "sort(table(guargum$rating), decreasing = TRUE)"
   ]
  },
  {
   "cell_type": "markdown",
   "id": "b456e57c-4a12-464b-999a-ef2df5af80c1",
   "metadata": {},
   "source": [
    "Markdown notes and sentences and analysis written here."
   ]
  },
  {
   "cell_type": "markdown",
   "id": "fc601975-35ed-4680-a4e1-0273ee3cc047",
   "metadata": {},
   "source": [
    "## Question 2"
   ]
  },
  {
   "cell_type": "code",
   "execution_count": 23,
   "id": "a16336a1-1ef0-41e8-bc7c-49387db27497",
   "metadata": {},
   "outputs": [
    {
     "data": {
      "text/plain": [
       "[1] \"brand\"        \"key\"          \"name\"         \"subhead\"      \"description\" \n",
       "[6] \"rating\"       \"rating_count\" \"ingredients\" "
      ]
     },
     "metadata": {},
     "output_type": "display_data"
    }
   ],
   "source": [
    "names(products)"
   ]
  },
  {
   "cell_type": "code",
   "execution_count": 24,
   "id": "6ec17f1d-d3bc-4fcc-b8e8-182b484b53d8",
   "metadata": {},
   "outputs": [
    {
     "data": {
      "text/plain": [
       " [1] \"brand\"       \"key\"         \"author\"      \"date\"        \"stars\"      \n",
       " [6] \"title\"       \"helpful_yes\" \"helpful_no\"  \"text\"        \"taste\"      \n",
       "[11] \"ingredients\" \"texture\"     \"likes\"      "
      ]
     },
     "metadata": {},
     "output_type": "display_data"
    }
   ],
   "source": [
    "names(reviews)"
   ]
  },
  {
   "cell_type": "code",
   "execution_count": 28,
   "id": "ed0830d2-9aa7-4d3b-81e5-f2eb4e2ff62b",
   "metadata": {},
   "outputs": [
    {
     "data": {
      "text/plain": [
       "[1] \"character\""
      ]
     },
     "metadata": {},
     "output_type": "display_data"
    }
   ],
   "source": [
    "class(products$brand)"
   ]
  },
  {
   "cell_type": "code",
   "execution_count": 29,
   "id": "b5c1e7e7-bf15-46f9-9938-507d26b69926",
   "metadata": {},
   "outputs": [
    {
     "data": {
      "text/plain": [
       "[1] \"character\""
      ]
     },
     "metadata": {},
     "output_type": "display_data"
    }
   ],
   "source": [
    "class(reviews$brand)"
   ]
  },
  {
   "cell_type": "code",
   "execution_count": 30,
   "id": "d8b0f6cc-44a3-4004-bb02-9fdf53c52d5d",
   "metadata": {},
   "outputs": [
    {
     "data": {
      "text/plain": [
       "[1] \"character\""
      ]
     },
     "metadata": {},
     "output_type": "display_data"
    }
   ],
   "source": [
    "class(products$key)"
   ]
  },
  {
   "cell_type": "code",
   "execution_count": 31,
   "id": "84d5915d-fa6b-4739-8338-9d59a48225ff",
   "metadata": {},
   "outputs": [
    {
     "data": {
      "text/plain": [
       "[1] \"character\""
      ]
     },
     "metadata": {},
     "output_type": "display_data"
    }
   ],
   "source": [
    "class(reviews$key)"
   ]
  },
  {
   "cell_type": "code",
   "execution_count": 32,
   "id": "f660c686-bbc3-42d4-ab47-e59db46f6237",
   "metadata": {},
   "outputs": [
    {
     "data": {
      "text/plain": [
       "[1] \"character\""
      ]
     },
     "metadata": {},
     "output_type": "display_data"
    }
   ],
   "source": [
    "class(products$ingredients)"
   ]
  },
  {
   "cell_type": "code",
   "execution_count": 68,
   "id": "bcc9cb3e-564d-4933-a5a6-1805950bf451",
   "metadata": {},
   "outputs": [
    {
     "data": {
      "text/plain": [
       "[1] \"numeric\""
      ]
     },
     "metadata": {},
     "output_type": "display_data"
    }
   ],
   "source": [
    "class(reviews$ingredients) #going to fail in merge because of this data type"
   ]
  },
  {
   "cell_type": "code",
   "execution_count": 35,
   "id": "dce80f58-7ee1-4a83-8be6-42e7cf459218",
   "metadata": {},
   "outputs": [],
   "source": [
    "bigDF <- merge(products, reviews, by=c(\"brand\", \"key\"))"
   ]
  },
  {
   "cell_type": "code",
   "execution_count": 36,
   "id": "dc6d6783-1313-45a6-8a3e-468602f5f8c2",
   "metadata": {},
   "outputs": [
    {
     "data": {
      "text/plain": [
       "[1] 241   8"
      ]
     },
     "metadata": {},
     "output_type": "display_data"
    }
   ],
   "source": [
    "dim(products)"
   ]
  },
  {
   "cell_type": "code",
   "execution_count": 37,
   "id": "97407dcb-c397-473a-9414-7cc4f78a5914",
   "metadata": {},
   "outputs": [
    {
     "data": {
      "text/plain": [
       "[1] 21674    13"
      ]
     },
     "metadata": {},
     "output_type": "display_data"
    }
   ],
   "source": [
    "dim(reviews)"
   ]
  },
  {
   "cell_type": "code",
   "execution_count": 38,
   "id": "0788ecbf-43f0-4df9-9187-060708515917",
   "metadata": {},
   "outputs": [
    {
     "data": {
      "text/plain": [
       "[1] 21674    19"
      ]
     },
     "metadata": {},
     "output_type": "display_data"
    }
   ],
   "source": [
    "dim(bigDF)"
   ]
  },
  {
   "cell_type": "code",
   "execution_count": 39,
   "id": "e858e88a-a9c0-4e78-aeb8-0f172493d9d2",
   "metadata": {},
   "outputs": [
    {
     "data": {
      "text/plain": [
       "  brand key  name               \n",
       "1 bj    0_bj Salted Caramel Core\n",
       "2 bj    0_bj Salted Caramel Core\n",
       "3 bj    0_bj Salted Caramel Core\n",
       "4 bj    0_bj Salted Caramel Core\n",
       "5 bj    0_bj Salted Caramel Core\n",
       "6 bj    0_bj Salted Caramel Core\n",
       "  subhead                                                           \n",
       "1 Sweet Cream Ice Cream with Blonde Brownies & a Salted Caramel Core\n",
       "2 Sweet Cream Ice Cream with Blonde Brownies & a Salted Caramel Core\n",
       "3 Sweet Cream Ice Cream with Blonde Brownies & a Salted Caramel Core\n",
       "4 Sweet Cream Ice Cream with Blonde Brownies & a Salted Caramel Core\n",
       "5 Sweet Cream Ice Cream with Blonde Brownies & a Salted Caramel Core\n",
       "6 Sweet Cream Ice Cream with Blonde Brownies & a Salted Caramel Core\n",
       "  description                                                                                                                                                                                                                                   \n",
       "1 Find your way to the ultimate ice cream experience with our Cores. Whether your primal urges lead you to the center of salted caramel or directly to the blonde brownies, you\\342\\200\\231ll be in total control of your own ice cream destiny.\n",
       "2 Find your way to the ultimate ice cream experience with our Cores. Whether your primal urges lead you to the center of salted caramel or directly to the blonde brownies, you\\342\\200\\231ll be in total control of your own ice cream destiny.\n",
       "3 Find your way to the ultimate ice cream experience with our Cores. Whether your primal urges lead you to the center of salted caramel or directly to the blonde brownies, you\\342\\200\\231ll be in total control of your own ice cream destiny.\n",
       "4 Find your way to the ultimate ice cream experience with our Cores. Whether your primal urges lead you to the center of salted caramel or directly to the blonde brownies, you\\342\\200\\231ll be in total control of your own ice cream destiny.\n",
       "5 Find your way to the ultimate ice cream experience with our Cores. Whether your primal urges lead you to the center of salted caramel or directly to the blonde brownies, you\\342\\200\\231ll be in total control of your own ice cream destiny.\n",
       "6 Find your way to the ultimate ice cream experience with our Cores. Whether your primal urges lead you to the center of salted caramel or directly to the blonde brownies, you\\342\\200\\231ll be in total control of your own ice cream destiny.\n",
       "  rating rating_count\n",
       "1 3.7    208         \n",
       "2 3.7    208         \n",
       "3 3.7    208         \n",
       "4 3.7    208         \n",
       "5 3.7    208         \n",
       "6 3.7    208         \n",
       "  ingredients.x                                                                                                                                                                                                                                                                                                                                                                \n",
       "1 CREAM, SKIM MILK, LIQUID SUGAR (SUGAR, WATER), WATER, BROWN SUGAR, SUGAR, MILK, WHEAT FLOUR, EGG YOLKS, CORN SYRUP, EGGS, BUTTER (CREAM, SALT), BUTTEROIL, PECTIN, SEA SALT, SOYBEAN OIL, VANILLA EXTRACT, GUAR GUM, SOY LECITHIN, BAKING POWDER (SODIUM ACID PYROPHOSPHATE, SODIUM BICARBONATE, CORN STARCH, MONOCALCIUM PHOSPHATE), BAKING SODA, SALT, CARRAGEENAN, LACTASE\n",
       "2 CREAM, SKIM MILK, LIQUID SUGAR (SUGAR, WATER), WATER, BROWN SUGAR, SUGAR, MILK, WHEAT FLOUR, EGG YOLKS, CORN SYRUP, EGGS, BUTTER (CREAM, SALT), BUTTEROIL, PECTIN, SEA SALT, SOYBEAN OIL, VANILLA EXTRACT, GUAR GUM, SOY LECITHIN, BAKING POWDER (SODIUM ACID PYROPHOSPHATE, SODIUM BICARBONATE, CORN STARCH, MONOCALCIUM PHOSPHATE), BAKING SODA, SALT, CARRAGEENAN, LACTASE\n",
       "3 CREAM, SKIM MILK, LIQUID SUGAR (SUGAR, WATER), WATER, BROWN SUGAR, SUGAR, MILK, WHEAT FLOUR, EGG YOLKS, CORN SYRUP, EGGS, BUTTER (CREAM, SALT), BUTTEROIL, PECTIN, SEA SALT, SOYBEAN OIL, VANILLA EXTRACT, GUAR GUM, SOY LECITHIN, BAKING POWDER (SODIUM ACID PYROPHOSPHATE, SODIUM BICARBONATE, CORN STARCH, MONOCALCIUM PHOSPHATE), BAKING SODA, SALT, CARRAGEENAN, LACTASE\n",
       "4 CREAM, SKIM MILK, LIQUID SUGAR (SUGAR, WATER), WATER, BROWN SUGAR, SUGAR, MILK, WHEAT FLOUR, EGG YOLKS, CORN SYRUP, EGGS, BUTTER (CREAM, SALT), BUTTEROIL, PECTIN, SEA SALT, SOYBEAN OIL, VANILLA EXTRACT, GUAR GUM, SOY LECITHIN, BAKING POWDER (SODIUM ACID PYROPHOSPHATE, SODIUM BICARBONATE, CORN STARCH, MONOCALCIUM PHOSPHATE), BAKING SODA, SALT, CARRAGEENAN, LACTASE\n",
       "5 CREAM, SKIM MILK, LIQUID SUGAR (SUGAR, WATER), WATER, BROWN SUGAR, SUGAR, MILK, WHEAT FLOUR, EGG YOLKS, CORN SYRUP, EGGS, BUTTER (CREAM, SALT), BUTTEROIL, PECTIN, SEA SALT, SOYBEAN OIL, VANILLA EXTRACT, GUAR GUM, SOY LECITHIN, BAKING POWDER (SODIUM ACID PYROPHOSPHATE, SODIUM BICARBONATE, CORN STARCH, MONOCALCIUM PHOSPHATE), BAKING SODA, SALT, CARRAGEENAN, LACTASE\n",
       "6 CREAM, SKIM MILK, LIQUID SUGAR (SUGAR, WATER), WATER, BROWN SUGAR, SUGAR, MILK, WHEAT FLOUR, EGG YOLKS, CORN SYRUP, EGGS, BUTTER (CREAM, SALT), BUTTEROIL, PECTIN, SEA SALT, SOYBEAN OIL, VANILLA EXTRACT, GUAR GUM, SOY LECITHIN, BAKING POWDER (SODIUM ACID PYROPHOSPHATE, SODIUM BICARBONATE, CORN STARCH, MONOCALCIUM PHOSPHATE), BAKING SODA, SALT, CARRAGEENAN, LACTASE\n",
       "  author         date       stars title                                  \n",
       "1 Ilovebennjerry 2017-04-15 3     Not enough brownies!                   \n",
       "2 Sweettooth909  2020-01-05 5     I\\342\\200\\231m OBSESSED with this pint!\n",
       "3 LaTanga71      2018-04-26 3     My favorite...More Caramel Please      \n",
       "4 chicago220     2018-01-14 5     Obsessed!!!                            \n",
       "5 Kassidyk       2020-07-24 1     Worst Ice Cream Ever!                  \n",
       "6 Nikiera        2020-07-23 2     Way Too Salty                          \n",
       "  helpful_yes helpful_no\n",
       "1 10          3         \n",
       "2  3          0         \n",
       "3  5          2         \n",
       "4 24          1         \n",
       "5  1          5         \n",
       "6  3          1         \n",
       "  text                                                                                                                                                                                                                                                                                                                                                                                                                                                                                                                                                                                                                                                                                                                                         \n",
       "1 Super good, don't get me wrong. But I came for the caramel and brownies, not the sweet cream. The packaging made it seem like brownies were packed and bountiful *crying frowny emoji* I'd say the taste of this was amazing, but the ratio of brownie to sweet cream was disappointing. Liked it regardless but probably won't buy again simply because it didn't live up to its promising package. I'll find another one that has a better ratio and wayyy more yummy chewy brownies.\\nOverall, good flavor, texture, idea, and brownies. Not so great caramel/sweet cream/ brownie RATIO. Just add more brownies. Please.                                                                                                                 \n",
       "2 I decided to try it out although I\\342\\200\\231m not a huge caramel fan, and the first buy was ok, didn\\342\\200\\231t like the caramel too much and for some reason that specific pint barely had any brownies! Like there were some on top but from the middle to the bottom? Zilch. Nada. Nothing! It was disappointing. But for some reason, I bought it again and I really do believe it was just that point bcuz the second one was glorious!! I had a big brownie chunk in EVERY bite. Plus the caramel didn\\342\\200\\231t bother me as much and I took a liking to it. Conclusion: I\\342\\200\\231m on my fifth pint, of the week and I\\342\\200\\231m going back to get my daily pint cus I\\342\\200\\231m kinda sick and need some happiness.\n",
       "3 My caramel core begins to disappear about half way through. I only buy this for the caramel core. The first time I purchased this I was not even aware that there were blonde bits in there. You had me a salted caramel core, well this is the fourth pint that I have purchased and the caramel is plentiful at the top then it begins to get sparse about half way down at 3/4s of the way down its gone. It works out in my husbands favor because he doesn't care for the caramel so he gets to finish my pint while having a full pint of his choice. Please please please, its called salted caramel core for a reason. Let the caramel flow through the core. P.S. You could put a little extra in there, I totally would not mind.  \n",
       "4 Why are people complaining about the blonde brownies? If you don\\342\\200\\231t like blonde brownies, get ice cream with fudge brownies! I LOVE the blonde brownies and cannot get enough of them. This ice cream is by far my favorite. I have driven to multiple stores to try and find it... and when I do, I stock up! I\\342\\200\\231ve tried other flavors when I can\\342\\200\\231t find this one, and none of them even come close to making me as happy as this does! I\\342\\200\\231d say sometimes the caramel to brownie ratio is a little off at times (more brownies please!), but I\\342\\200\\231ll still always enjoy it nevertheless!                                                                                                 \n",
       "5 This ice cream is worst ice cream I\\342\\200\\231ve ever tasted. I was beyond excited when I picked it up today and couldn\\342\\200\\231t wait to get home and try it. First the sweet cream ice cream has no flavour. But that\\342\\200\\231s fine I could get past that, but the salted caramel core is what\\342\\200\\231s really wrong. It\\342\\200\\231s disgusting and so salty it\\342\\200\\231s actually inedible. I\\342\\200\\231ve had ice cream before that I have really enjoyed but never to the point where I physically can not stomach it. I love salted caramel but this is just another level. I actually came here to read the reviews and see how others thought of it just in case mine was a bad batch. Never again!                 \n",
       "6 I bought this last night to go with Louisiana Crunch cake because I was craving that salty and sweet flavor. Unfortunately, I was not thrilled with the salted caramel core of this ice cream. Usually, when you have salted caramel, the salt enhances the flavor of the caramel. The salt in this core OVERWHELMED everything, even the cake. It was disappointing to not enjoy my dessert and I doubt I'll be finishing this pint of ice cream, which is a shame because you should never have to throw away ice cream.                                                                                                                                                                                                                   \n",
       "  taste ingredients.y texture likes\n",
       "1 NA    NA            NA           \n",
       "2 NA    NA            NA           \n",
       "3 NA    NA            NA           \n",
       "4 NA    NA            NA           \n",
       "5 NA    NA            NA           \n",
       "6 NA    NA            NA           "
      ]
     },
     "metadata": {},
     "output_type": "display_data"
    }
   ],
   "source": [
    "head(bigDF)"
   ]
  },
  {
   "cell_type": "markdown",
   "id": "14dc22d4-ddc3-41cc-a91a-cb0025bc0c80",
   "metadata": {},
   "source": [
    "Markdown notes and sentences and analysis written here."
   ]
  },
  {
   "cell_type": "markdown",
   "id": "8e586edd-ff26-4ce2-8f6b-2424b26f2929",
   "metadata": {},
   "source": [
    "## Question 3"
   ]
  },
  {
   "cell_type": "code",
   "execution_count": 40,
   "id": "bbe0f40d-9655-4653-9ca8-886bdb61cb91",
   "metadata": {},
   "outputs": [
    {
     "data": {
      "text/plain": [
       "  episode_title_id show_title_id season_number episode_number\n",
       "1 tt0041951        tt0041038      1            9             \n",
       "2 tt0042816        tt0989125      1            17            \n",
       "3 tt0042889        tt0989125     NA            \\\\N           \n",
       "4 tt0043426        tt0040051      3            42            \n",
       "5 tt0043631        tt0989125      2            16            \n",
       "6 tt0043693        tt0989125      2            8             "
      ]
     },
     "metadata": {},
     "output_type": "display_data"
    }
   ],
   "source": [
    "head(episodes)"
   ]
  },
  {
   "cell_type": "code",
   "execution_count": 41,
   "id": "8f69dd52-b920-4141-8ca2-5b2a626bcad9",
   "metadata": {},
   "outputs": [],
   "source": [
    "StrangerThingsDF <- subset(episodes, show_title_id==\"tt4574334\")"
   ]
  },
  {
   "cell_type": "code",
   "execution_count": 42,
   "id": "89cca69d-e5d3-41f5-926f-47c96e021a5e",
   "metadata": {},
   "outputs": [
    {
     "data": {
      "text/plain": [
       "[1] 34  4"
      ]
     },
     "metadata": {},
     "output_type": "display_data"
    }
   ],
   "source": [
    "dim(StrangerThingsDF)"
   ]
  },
  {
   "cell_type": "code",
   "execution_count": 44,
   "id": "2ccf005c-6ded-40f9-9d09-a9e2098e713f",
   "metadata": {},
   "outputs": [
    {
     "data": {
      "text/plain": [
       "  title_id  type  primary_title          original_title         is_adult\n",
       "1 tt0000001 short Carmencita             Carmencita             0       \n",
       "2 tt0000002 short Le clown et ses chiens Le clown et ses chiens 0       \n",
       "3 tt0000003 short Pauvre Pierrot         Pauvre Pierrot         0       \n",
       "4 tt0000004 short Un bon bock            Un bon bock            0       \n",
       "5 tt0000005 short Blacksmith Scene       Blacksmith Scene       0       \n",
       "6 tt0000006 short Chinese Opium Den      Chinese Opium Den      0       \n",
       "  premiered ended runtime_minutes genres                  \n",
       "1 1894      NA     1              Documentary,Short       \n",
       "2 1892      NA     5              Animation,Short         \n",
       "3 1892      NA     4              Animation,Comedy,Romance\n",
       "4 1892      NA    12              Animation,Short         \n",
       "5 1893      NA     1              Comedy,Short            \n",
       "6 1894      NA     1              Short                   "
      ]
     },
     "metadata": {},
     "output_type": "display_data"
    }
   ],
   "source": [
    "head(titles)"
   ]
  },
  {
   "cell_type": "code",
   "execution_count": 49,
   "id": "3d6667c3-5874-4575-b3a2-f6fa18ecefa9",
   "metadata": {},
   "outputs": [
    {
     "data": {
      "text/plain": [
       "  title_id  rating votes\n",
       "1 tt0000001 5.7    1718 \n",
       "2 tt0000002 6.0     211 \n",
       "3 tt0000003 6.5    1480 \n",
       "4 tt0000004 6.1     124 \n",
       "5 tt0000005 6.2    2283 \n",
       "6 tt0000006 5.1     127 "
      ]
     },
     "metadata": {},
     "output_type": "display_data"
    }
   ],
   "source": [
    "head(ratings)"
   ]
  },
  {
   "cell_type": "code",
   "execution_count": 45,
   "id": "08a0e06f-d153-42fa-a79f-62c032903bcf",
   "metadata": {},
   "outputs": [
    {
     "data": {
      "text/plain": [
       "   show_title_id episode_title_id season_number episode_number type    \n",
       "1  tt4574334     tt11043488       4             1              tvSeries\n",
       "2  tt4574334     tt11171932       4             2              tvSeries\n",
       "3  tt4574334     tt11171954       4             3              tvSeries\n",
       "4  tt4574334     tt11171978       4             4              tvSeries\n",
       "5  tt4574334     tt11172000       4             5              tvSeries\n",
       "6  tt4574334     tt11172012       4             6              tvSeries\n",
       "7  tt4574334     tt11172022       4             7              tvSeries\n",
       "8  tt4574334     tt11172054       4             8              tvSeries\n",
       "9  tt4574334     tt12810166       4             9              tvSeries\n",
       "10 tt4574334     tt4593118        1             1              tvSeries\n",
       "11 tt4574334     tt4593122        1             2              tvSeries\n",
       "12 tt4574334     tt4593124        1             4              tvSeries\n",
       "13 tt4574334     tt4593126        1             3              tvSeries\n",
       "14 tt4574334     tt4593128        1             5              tvSeries\n",
       "15 tt4574334     tt4593132        1             6              tvSeries\n",
       "16 tt4574334     tt4593134        1             7              tvSeries\n",
       "17 tt4574334     tt4593138        1             8              tvSeries\n",
       "18 tt4574334     tt6020684        2             1              tvSeries\n",
       "19 tt4574334     tt6020792        2             2              tvSeries\n",
       "20 tt4574334     tt6020796        2             3              tvSeries\n",
       "21 tt4574334     tt6020802        2             4              tvSeries\n",
       "22 tt4574334     tt6020806        2             5              tvSeries\n",
       "23 tt4574334     tt6020808        2             6              tvSeries\n",
       "24 tt4574334     tt6020810        2             7              tvSeries\n",
       "25 tt4574334     tt6020812        2             8              tvSeries\n",
       "26 tt4574334     tt6020876        2             9              tvSeries\n",
       "27 tt4574334     tt7445494        3             1              tvSeries\n",
       "28 tt4574334     tt7640050        3             2              tvSeries\n",
       "29 tt4574334     tt7911866        3             3              tvSeries\n",
       "30 tt4574334     tt7911884        3             4              tvSeries\n",
       "31 tt4574334     tt7911894        3             5              tvSeries\n",
       "32 tt4574334     tt7911914        3             6              tvSeries\n",
       "33 tt4574334     tt7911930        3             7              tvSeries\n",
       "34 tt4574334     tt7911942        3             8              tvSeries\n",
       "   primary_title   original_title  is_adult premiered ended runtime_minutes\n",
       "1  Stranger Things Stranger Things 0        2016      NA    51             \n",
       "2  Stranger Things Stranger Things 0        2016      NA    51             \n",
       "3  Stranger Things Stranger Things 0        2016      NA    51             \n",
       "4  Stranger Things Stranger Things 0        2016      NA    51             \n",
       "5  Stranger Things Stranger Things 0        2016      NA    51             \n",
       "6  Stranger Things Stranger Things 0        2016      NA    51             \n",
       "7  Stranger Things Stranger Things 0        2016      NA    51             \n",
       "8  Stranger Things Stranger Things 0        2016      NA    51             \n",
       "9  Stranger Things Stranger Things 0        2016      NA    51             \n",
       "10 Stranger Things Stranger Things 0        2016      NA    51             \n",
       "11 Stranger Things Stranger Things 0        2016      NA    51             \n",
       "12 Stranger Things Stranger Things 0        2016      NA    51             \n",
       "13 Stranger Things Stranger Things 0        2016      NA    51             \n",
       "14 Stranger Things Stranger Things 0        2016      NA    51             \n",
       "15 Stranger Things Stranger Things 0        2016      NA    51             \n",
       "16 Stranger Things Stranger Things 0        2016      NA    51             \n",
       "17 Stranger Things Stranger Things 0        2016      NA    51             \n",
       "18 Stranger Things Stranger Things 0        2016      NA    51             \n",
       "19 Stranger Things Stranger Things 0        2016      NA    51             \n",
       "20 Stranger Things Stranger Things 0        2016      NA    51             \n",
       "21 Stranger Things Stranger Things 0        2016      NA    51             \n",
       "22 Stranger Things Stranger Things 0        2016      NA    51             \n",
       "23 Stranger Things Stranger Things 0        2016      NA    51             \n",
       "24 Stranger Things Stranger Things 0        2016      NA    51             \n",
       "25 Stranger Things Stranger Things 0        2016      NA    51             \n",
       "26 Stranger Things Stranger Things 0        2016      NA    51             \n",
       "27 Stranger Things Stranger Things 0        2016      NA    51             \n",
       "28 Stranger Things Stranger Things 0        2016      NA    51             \n",
       "29 Stranger Things Stranger Things 0        2016      NA    51             \n",
       "30 Stranger Things Stranger Things 0        2016      NA    51             \n",
       "31 Stranger Things Stranger Things 0        2016      NA    51             \n",
       "32 Stranger Things Stranger Things 0        2016      NA    51             \n",
       "33 Stranger Things Stranger Things 0        2016      NA    51             \n",
       "34 Stranger Things Stranger Things 0        2016      NA    51             \n",
       "   genres              \n",
       "1  Drama,Fantasy,Horror\n",
       "2  Drama,Fantasy,Horror\n",
       "3  Drama,Fantasy,Horror\n",
       "4  Drama,Fantasy,Horror\n",
       "5  Drama,Fantasy,Horror\n",
       "6  Drama,Fantasy,Horror\n",
       "7  Drama,Fantasy,Horror\n",
       "8  Drama,Fantasy,Horror\n",
       "9  Drama,Fantasy,Horror\n",
       "10 Drama,Fantasy,Horror\n",
       "11 Drama,Fantasy,Horror\n",
       "12 Drama,Fantasy,Horror\n",
       "13 Drama,Fantasy,Horror\n",
       "14 Drama,Fantasy,Horror\n",
       "15 Drama,Fantasy,Horror\n",
       "16 Drama,Fantasy,Horror\n",
       "17 Drama,Fantasy,Horror\n",
       "18 Drama,Fantasy,Horror\n",
       "19 Drama,Fantasy,Horror\n",
       "20 Drama,Fantasy,Horror\n",
       "21 Drama,Fantasy,Horror\n",
       "22 Drama,Fantasy,Horror\n",
       "23 Drama,Fantasy,Horror\n",
       "24 Drama,Fantasy,Horror\n",
       "25 Drama,Fantasy,Horror\n",
       "26 Drama,Fantasy,Horror\n",
       "27 Drama,Fantasy,Horror\n",
       "28 Drama,Fantasy,Horror\n",
       "29 Drama,Fantasy,Horror\n",
       "30 Drama,Fantasy,Horror\n",
       "31 Drama,Fantasy,Horror\n",
       "32 Drama,Fantasy,Horror\n",
       "33 Drama,Fantasy,Horror\n",
       "34 Drama,Fantasy,Horror"
      ]
     },
     "metadata": {},
     "output_type": "display_data"
    }
   ],
   "source": [
    "merge(StrangerThingsDF, titles, by.x = \"show_title_id\", by.y = \"title_id\")"
   ]
  },
  {
   "cell_type": "code",
   "execution_count": 52,
   "id": "52fba382-975b-4705-ba75-4c59aae703bb",
   "metadata": {},
   "outputs": [
    {
     "data": {
      "text/plain": [
       "   episode_title_id show_title_id season_number episode_number type.x  \n",
       "1  tt4593118        tt4574334     1             1              tvSeries\n",
       "2  tt4593122        tt4574334     1             2              tvSeries\n",
       "3  tt4593124        tt4574334     1             4              tvSeries\n",
       "4  tt4593126        tt4574334     1             3              tvSeries\n",
       "5  tt4593128        tt4574334     1             5              tvSeries\n",
       "6  tt4593132        tt4574334     1             6              tvSeries\n",
       "7  tt4593134        tt4574334     1             7              tvSeries\n",
       "8  tt4593138        tt4574334     1             8              tvSeries\n",
       "9  tt6020684        tt4574334     2             1              tvSeries\n",
       "10 tt6020792        tt4574334     2             2              tvSeries\n",
       "11 tt6020796        tt4574334     2             3              tvSeries\n",
       "12 tt6020802        tt4574334     2             4              tvSeries\n",
       "13 tt6020806        tt4574334     2             5              tvSeries\n",
       "14 tt6020808        tt4574334     2             6              tvSeries\n",
       "15 tt6020810        tt4574334     2             7              tvSeries\n",
       "16 tt6020812        tt4574334     2             8              tvSeries\n",
       "17 tt6020876        tt4574334     2             9              tvSeries\n",
       "18 tt7445494        tt4574334     3             1              tvSeries\n",
       "19 tt7640050        tt4574334     3             2              tvSeries\n",
       "20 tt7911866        tt4574334     3             3              tvSeries\n",
       "21 tt7911884        tt4574334     3             4              tvSeries\n",
       "22 tt7911894        tt4574334     3             5              tvSeries\n",
       "23 tt7911914        tt4574334     3             6              tvSeries\n",
       "24 tt7911930        tt4574334     3             7              tvSeries\n",
       "25 tt7911942        tt4574334     3             8              tvSeries\n",
       "   primary_title.x original_title.x is_adult.x premiered.x ended.x\n",
       "1  Stranger Things Stranger Things  0          2016        NA     \n",
       "2  Stranger Things Stranger Things  0          2016        NA     \n",
       "3  Stranger Things Stranger Things  0          2016        NA     \n",
       "4  Stranger Things Stranger Things  0          2016        NA     \n",
       "5  Stranger Things Stranger Things  0          2016        NA     \n",
       "6  Stranger Things Stranger Things  0          2016        NA     \n",
       "7  Stranger Things Stranger Things  0          2016        NA     \n",
       "8  Stranger Things Stranger Things  0          2016        NA     \n",
       "9  Stranger Things Stranger Things  0          2016        NA     \n",
       "10 Stranger Things Stranger Things  0          2016        NA     \n",
       "11 Stranger Things Stranger Things  0          2016        NA     \n",
       "12 Stranger Things Stranger Things  0          2016        NA     \n",
       "13 Stranger Things Stranger Things  0          2016        NA     \n",
       "14 Stranger Things Stranger Things  0          2016        NA     \n",
       "15 Stranger Things Stranger Things  0          2016        NA     \n",
       "16 Stranger Things Stranger Things  0          2016        NA     \n",
       "17 Stranger Things Stranger Things  0          2016        NA     \n",
       "18 Stranger Things Stranger Things  0          2016        NA     \n",
       "19 Stranger Things Stranger Things  0          2016        NA     \n",
       "20 Stranger Things Stranger Things  0          2016        NA     \n",
       "21 Stranger Things Stranger Things  0          2016        NA     \n",
       "22 Stranger Things Stranger Things  0          2016        NA     \n",
       "23 Stranger Things Stranger Things  0          2016        NA     \n",
       "24 Stranger Things Stranger Things  0          2016        NA     \n",
       "25 Stranger Things Stranger Things  0          2016        NA     \n",
       "   runtime_minutes.x genres.x             type.y   \n",
       "1  51                Drama,Fantasy,Horror tvEpisode\n",
       "2  51                Drama,Fantasy,Horror tvEpisode\n",
       "3  51                Drama,Fantasy,Horror tvEpisode\n",
       "4  51                Drama,Fantasy,Horror tvEpisode\n",
       "5  51                Drama,Fantasy,Horror tvEpisode\n",
       "6  51                Drama,Fantasy,Horror tvEpisode\n",
       "7  51                Drama,Fantasy,Horror tvEpisode\n",
       "8  51                Drama,Fantasy,Horror tvEpisode\n",
       "9  51                Drama,Fantasy,Horror tvEpisode\n",
       "10 51                Drama,Fantasy,Horror tvEpisode\n",
       "11 51                Drama,Fantasy,Horror tvEpisode\n",
       "12 51                Drama,Fantasy,Horror tvEpisode\n",
       "13 51                Drama,Fantasy,Horror tvEpisode\n",
       "14 51                Drama,Fantasy,Horror tvEpisode\n",
       "15 51                Drama,Fantasy,Horror tvEpisode\n",
       "16 51                Drama,Fantasy,Horror tvEpisode\n",
       "17 51                Drama,Fantasy,Horror tvEpisode\n",
       "18 51                Drama,Fantasy,Horror tvEpisode\n",
       "19 51                Drama,Fantasy,Horror tvEpisode\n",
       "20 51                Drama,Fantasy,Horror tvEpisode\n",
       "21 51                Drama,Fantasy,Horror tvEpisode\n",
       "22 51                Drama,Fantasy,Horror tvEpisode\n",
       "23 51                Drama,Fantasy,Horror tvEpisode\n",
       "24 51                Drama,Fantasy,Horror tvEpisode\n",
       "25 51                Drama,Fantasy,Horror tvEpisode\n",
       "   primary_title.y                                 \n",
       "1  Chapter One: The Vanishing of Will Byers        \n",
       "2  Chapter Two: The Weirdo on Maple Street         \n",
       "3  Chapter Four: The Body                          \n",
       "4  Chapter Three: Holly, Jolly                     \n",
       "5  Chapter Five: The Flea and the Acrobat          \n",
       "6  Chapter Six: The Monster                        \n",
       "7  Chapter Seven: The Bathtub                      \n",
       "8  Chapter Eight: The Upside Down                  \n",
       "9  Chapter One: MADMAX                             \n",
       "10 Chapter Two: Trick or Treat, Freak              \n",
       "11 Chapter Three: The Pollywog                     \n",
       "12 Chapter Four: Will the Wise                     \n",
       "13 Chapter Five: Dig Dug                           \n",
       "14 Chapter Six: The Spy                            \n",
       "15 Chapter Seven: The Lost Sister                  \n",
       "16 Chapter Eight: The Mind Flayer                  \n",
       "17 Chapter Nine: The Gate                          \n",
       "18 Chapter One: Suzie, Do You Copy?                \n",
       "19 Chapter Two: The Mall Rats                      \n",
       "20 Chapter Three: The Case of the Missing Lifeguard\n",
       "21 Chapter Four: The Sauna Test                    \n",
       "22 Chapter Five: The Flayed                        \n",
       "23 Chapter Six: E Pluribus Unum                    \n",
       "24 Chapter Seven: The Bite                         \n",
       "25 Chapter Eight: The Battle of Starcourt          \n",
       "   original_title.y                                 is_adult.y premiered.y\n",
       "1  Chapter One: The Vanishing of Will Byers         0          2016       \n",
       "2  Chapter Two: The Weirdo on Maple Street          0          2016       \n",
       "3  Chapter Four: The Body                           0          2016       \n",
       "4  Chapter Three: Holly, Jolly                      0          2016       \n",
       "5  Chapter Five: The Flea and the Acrobat           0          2016       \n",
       "6  Chapter Six: The Monster                         0          2016       \n",
       "7  Chapter Seven: The Bathtub                       0          2016       \n",
       "8  Chapter Eight: The Upside Down                   0          2016       \n",
       "9  Chapter One: MADMAX                              0          2017       \n",
       "10 Chapter Two: Trick or Treat, Freak               0          2017       \n",
       "11 Chapter Three: The Pollywog                      0          2017       \n",
       "12 Chapter Four: Will the Wise                      0          2017       \n",
       "13 Chapter Five: Dig Dug                            0          2017       \n",
       "14 Chapter Six: The Spy                             0          2017       \n",
       "15 Chapter Seven: The Lost Sister                   0          2017       \n",
       "16 Chapter Eight: The Mind Flayer                   0          2017       \n",
       "17 Chapter Nine: The Gate                           0          2017       \n",
       "18 Chapter One: Suzie, Do You Copy?                 0          2019       \n",
       "19 Chapter Two: The Mall Rats                       0          2019       \n",
       "20 Chapter Three: The Case of the Missing Lifeguard 0          2019       \n",
       "21 Chapter Four: The Sauna Test                     0          2019       \n",
       "22 Chapter Five: The Flayed                         0          2019       \n",
       "23 Chapter Six: E Pluribus Unum                     0          2019       \n",
       "24 Chapter Seven: The Bite                          0          2019       \n",
       "25 Chapter Eight: The Battle of Starcourt           0          2019       \n",
       "   ended.y runtime_minutes.y genres.y             rating.x votes.x rating.y\n",
       "1  NA      47                Drama,Fantasy,Horror 8.7      870577  8.6     \n",
       "2  NA      55                Drama,Fantasy,Horror 8.7      870577  8.5     \n",
       "3  NA      49                Drama,Fantasy,Horror 8.7      870577  9.0     \n",
       "4  NA      51                Drama,Fantasy,Horror 8.7      870577  8.9     \n",
       "5  NA      52                Drama,Fantasy,Horror 8.7      870577  8.8     \n",
       "6  NA      46                Drama,Fantasy,Horror 8.7      870577  8.9     \n",
       "7  NA      41                Drama,Fantasy,Horror 8.7      870577  9.1     \n",
       "8  NA      54                Drama,Fantasy,Horror 8.7      870577  9.3     \n",
       "9  NA      48                Drama,Fantasy,Horror 8.7      870577  8.3     \n",
       "10 NA      56                Drama,Fantasy,Horror 8.7      870577  8.4     \n",
       "11 NA      51                Drama,Fantasy,Horror 8.7      870577  8.6     \n",
       "12 NA      46                Drama,Fantasy,Horror 8.7      870577  8.7     \n",
       "13 NA      58                Drama,Fantasy,Horror 8.7      870577  8.9     \n",
       "14 NA      51                Drama,Fantasy,Horror 8.7      870577  9.2     \n",
       "15 NA      45                Drama,Fantasy,Horror 8.7      870577  6.1     \n",
       "16 NA      47                Drama,Fantasy,Horror 8.7      870577  9.3     \n",
       "17 NA      62                Drama,Fantasy,Horror 8.7      870577  9.4     \n",
       "18 NA      50                Drama,Fantasy,Horror 8.7      870577  7.9     \n",
       "19 NA      50                Drama,Fantasy,Horror 8.7      870577  8.0     \n",
       "20 NA      49                Drama,Fantasy,Horror 8.7      870577  8.4     \n",
       "21 NA      52                Drama,Fantasy,Horror 8.7      870577  8.9     \n",
       "22 NA      51                Drama,Fantasy,Horror 8.7      870577  8.6     \n",
       "23 NA      59                Drama,Fantasy,Horror 8.7      870577  8.6     \n",
       "24 NA      55                Drama,Fantasy,Horror 8.7      870577  8.8     \n",
       "25 NA      76                Drama,Fantasy,Horror 8.7      870577  9.2     \n",
       "   votes.y\n",
       "1  19756  \n",
       "2  17638  \n",
       "3  17262  \n",
       "4  17580  \n",
       "5  16318  \n",
       "6  16182  \n",
       "7  16901  \n",
       "8  19912  \n",
       "9  15678  \n",
       "10 14554  \n",
       "11 14269  \n",
       "12 14052  \n",
       "13 14407  \n",
       "14 15465  \n",
       "15 22503  \n",
       "16 16915  \n",
       "17 19023  \n",
       "18 16701  \n",
       "19 14982  \n",
       "20 14470  \n",
       "21 15555  \n",
       "22 14029  \n",
       "23 14128  \n",
       "24 14580  \n",
       "25 22961  "
      ]
     },
     "metadata": {},
     "output_type": "display_data"
    }
   ],
   "source": [
    "merge(merge(merge(merge(StrangerThingsDF, titles, by.x=\"show_title_id\", by.y=\"title_id\"),\n",
    "          titles, by.x=\"episode_title_id\", by.y=\"title_id\"), \n",
    "          ratings, by.x=\"show_title_id\", by.y=\"title_id\"),\n",
    "          ratings, by.x=\"episode_title_id\", by.y=\"title_id\")"
   ]
  },
  {
   "cell_type": "code",
   "execution_count": 51,
   "id": "e2fe71ab-b646-4c14-866d-4a67bd77f3ec",
   "metadata": {},
   "outputs": [],
   "source": [
    "StrangerThingsBigMergedDF <- merge(merge(merge(merge(StrangerThingsDF, titles, by.x=\"show_title_id\", by.y=\"title_id\"),\n",
    "          titles, by.x=\"episode_title_id\", by.y=\"title_id\"), \n",
    "          ratings, by.x=\"show_title_id\", by.y=\"title_id\"),\n",
    "          ratings, by.x=\"episode_title_id\", by.y=\"title_id\")"
   ]
  },
  {
   "cell_type": "code",
   "execution_count": 53,
   "id": "e197a392-8db5-40fa-b315-8e94968c0107",
   "metadata": {},
   "outputs": [
    {
     "data": {
      "text/plain": [
       "[1] 25 24"
      ]
     },
     "metadata": {},
     "output_type": "display_data"
    }
   ],
   "source": [
    "dim(StrangerThingsBigMergedDF)"
   ]
  },
  {
   "cell_type": "code",
   "execution_count": 54,
   "id": "c84d36e3-330f-4d6b-90d2-2efc781c4aac",
   "metadata": {},
   "outputs": [
    {
     "data": {
      "text/plain": [
       "  episode_title_id show_title_id season_number episode_number type.x  \n",
       "1 tt4593118        tt4574334     1             1              tvSeries\n",
       "2 tt4593122        tt4574334     1             2              tvSeries\n",
       "3 tt4593124        tt4574334     1             4              tvSeries\n",
       "4 tt4593126        tt4574334     1             3              tvSeries\n",
       "5 tt4593128        tt4574334     1             5              tvSeries\n",
       "6 tt4593132        tt4574334     1             6              tvSeries\n",
       "  primary_title.x original_title.x is_adult.x premiered.x ended.x\n",
       "1 Stranger Things Stranger Things  0          2016        NA     \n",
       "2 Stranger Things Stranger Things  0          2016        NA     \n",
       "3 Stranger Things Stranger Things  0          2016        NA     \n",
       "4 Stranger Things Stranger Things  0          2016        NA     \n",
       "5 Stranger Things Stranger Things  0          2016        NA     \n",
       "6 Stranger Things Stranger Things  0          2016        NA     \n",
       "  runtime_minutes.x genres.x             type.y   \n",
       "1 51                Drama,Fantasy,Horror tvEpisode\n",
       "2 51                Drama,Fantasy,Horror tvEpisode\n",
       "3 51                Drama,Fantasy,Horror tvEpisode\n",
       "4 51                Drama,Fantasy,Horror tvEpisode\n",
       "5 51                Drama,Fantasy,Horror tvEpisode\n",
       "6 51                Drama,Fantasy,Horror tvEpisode\n",
       "  primary_title.y                         \n",
       "1 Chapter One: The Vanishing of Will Byers\n",
       "2 Chapter Two: The Weirdo on Maple Street \n",
       "3 Chapter Four: The Body                  \n",
       "4 Chapter Three: Holly, Jolly             \n",
       "5 Chapter Five: The Flea and the Acrobat  \n",
       "6 Chapter Six: The Monster                \n",
       "  original_title.y                         is_adult.y premiered.y ended.y\n",
       "1 Chapter One: The Vanishing of Will Byers 0          2016        NA     \n",
       "2 Chapter Two: The Weirdo on Maple Street  0          2016        NA     \n",
       "3 Chapter Four: The Body                   0          2016        NA     \n",
       "4 Chapter Three: Holly, Jolly              0          2016        NA     \n",
       "5 Chapter Five: The Flea and the Acrobat   0          2016        NA     \n",
       "6 Chapter Six: The Monster                 0          2016        NA     \n",
       "  runtime_minutes.y genres.y             rating.x votes.x rating.y votes.y\n",
       "1 47                Drama,Fantasy,Horror 8.7      870577  8.6      19756  \n",
       "2 55                Drama,Fantasy,Horror 8.7      870577  8.5      17638  \n",
       "3 49                Drama,Fantasy,Horror 8.7      870577  9.0      17262  \n",
       "4 51                Drama,Fantasy,Horror 8.7      870577  8.9      17580  \n",
       "5 52                Drama,Fantasy,Horror 8.7      870577  8.8      16318  \n",
       "6 46                Drama,Fantasy,Horror 8.7      870577  8.9      16182  "
      ]
     },
     "metadata": {},
     "output_type": "display_data"
    }
   ],
   "source": [
    "head(StrangerThingsBigMergedDF)"
   ]
  },
  {
   "cell_type": "code",
   "execution_count": 55,
   "id": "b17260b3-2a81-4c95-be5d-5b6bc5e46e7b",
   "metadata": {},
   "outputs": [
    {
     "data": {
      "text/plain": [
       "  episode_title_id show_title_id season_number episode_number type.x  \n",
       "1 tt6020810        tt4574334     2             7              tvSeries\n",
       "2 tt7445494        tt4574334     3             1              tvSeries\n",
       "3 tt7640050        tt4574334     3             2              tvSeries\n",
       "4 tt6020684        tt4574334     2             1              tvSeries\n",
       "5 tt6020792        tt4574334     2             2              tvSeries\n",
       "6 tt7911866        tt4574334     3             3              tvSeries\n",
       "  primary_title.x original_title.x is_adult.x premiered.x ended.x\n",
       "1 Stranger Things Stranger Things  0          2016        NA     \n",
       "2 Stranger Things Stranger Things  0          2016        NA     \n",
       "3 Stranger Things Stranger Things  0          2016        NA     \n",
       "4 Stranger Things Stranger Things  0          2016        NA     \n",
       "5 Stranger Things Stranger Things  0          2016        NA     \n",
       "6 Stranger Things Stranger Things  0          2016        NA     \n",
       "  runtime_minutes.x genres.x             type.y   \n",
       "1 51                Drama,Fantasy,Horror tvEpisode\n",
       "2 51                Drama,Fantasy,Horror tvEpisode\n",
       "3 51                Drama,Fantasy,Horror tvEpisode\n",
       "4 51                Drama,Fantasy,Horror tvEpisode\n",
       "5 51                Drama,Fantasy,Horror tvEpisode\n",
       "6 51                Drama,Fantasy,Horror tvEpisode\n",
       "  primary_title.y                                 \n",
       "1 Chapter Seven: The Lost Sister                  \n",
       "2 Chapter One: Suzie, Do You Copy?                \n",
       "3 Chapter Two: The Mall Rats                      \n",
       "4 Chapter One: MADMAX                             \n",
       "5 Chapter Two: Trick or Treat, Freak              \n",
       "6 Chapter Three: The Case of the Missing Lifeguard\n",
       "  original_title.y                                 is_adult.y premiered.y\n",
       "1 Chapter Seven: The Lost Sister                   0          2017       \n",
       "2 Chapter One: Suzie, Do You Copy?                 0          2019       \n",
       "3 Chapter Two: The Mall Rats                       0          2019       \n",
       "4 Chapter One: MADMAX                              0          2017       \n",
       "5 Chapter Two: Trick or Treat, Freak               0          2017       \n",
       "6 Chapter Three: The Case of the Missing Lifeguard 0          2019       \n",
       "  ended.y runtime_minutes.y genres.y             rating.x votes.x rating.y\n",
       "1 NA      45                Drama,Fantasy,Horror 8.7      870577  6.1     \n",
       "2 NA      50                Drama,Fantasy,Horror 8.7      870577  7.9     \n",
       "3 NA      50                Drama,Fantasy,Horror 8.7      870577  8.0     \n",
       "4 NA      48                Drama,Fantasy,Horror 8.7      870577  8.3     \n",
       "5 NA      56                Drama,Fantasy,Horror 8.7      870577  8.4     \n",
       "6 NA      49                Drama,Fantasy,Horror 8.7      870577  8.4     \n",
       "  votes.y\n",
       "1 22503  \n",
       "2 16701  \n",
       "3 14982  \n",
       "4 15678  \n",
       "5 14554  \n",
       "6 14470  "
      ]
     },
     "metadata": {},
     "output_type": "display_data"
    }
   ],
   "source": [
    "head(StrangerThingsBigMergedDF[order(StrangerThingsBigMergedDF$rating.y), ])"
   ]
  },
  {
   "cell_type": "code",
   "execution_count": 69,
   "id": "46d29cf7-8f14-4e02-bd58-1686c51aaa52",
   "metadata": {},
   "outputs": [
    {
     "data": {
      "text/plain": [
       "  episode_title_id show_title_id season_number episode_number type.x  \n",
       "1 tt6020876        tt4574334     2             9              tvSeries\n",
       "2 tt4593138        tt4574334     1             8              tvSeries\n",
       "3 tt6020812        tt4574334     2             8              tvSeries\n",
       "4 tt6020808        tt4574334     2             6              tvSeries\n",
       "5 tt7911942        tt4574334     3             8              tvSeries\n",
       "  primary_title.x original_title.x is_adult.x premiered.x ended.x\n",
       "1 Stranger Things Stranger Things  0          2016        NA     \n",
       "2 Stranger Things Stranger Things  0          2016        NA     \n",
       "3 Stranger Things Stranger Things  0          2016        NA     \n",
       "4 Stranger Things Stranger Things  0          2016        NA     \n",
       "5 Stranger Things Stranger Things  0          2016        NA     \n",
       "  runtime_minutes.x genres.x             type.y   \n",
       "1 51                Drama,Fantasy,Horror tvEpisode\n",
       "2 51                Drama,Fantasy,Horror tvEpisode\n",
       "3 51                Drama,Fantasy,Horror tvEpisode\n",
       "4 51                Drama,Fantasy,Horror tvEpisode\n",
       "5 51                Drama,Fantasy,Horror tvEpisode\n",
       "  primary_title.y                        original_title.y                      \n",
       "1 Chapter Nine: The Gate                 Chapter Nine: The Gate                \n",
       "2 Chapter Eight: The Upside Down         Chapter Eight: The Upside Down        \n",
       "3 Chapter Eight: The Mind Flayer         Chapter Eight: The Mind Flayer        \n",
       "4 Chapter Six: The Spy                   Chapter Six: The Spy                  \n",
       "5 Chapter Eight: The Battle of Starcourt Chapter Eight: The Battle of Starcourt\n",
       "  is_adult.y premiered.y ended.y runtime_minutes.y genres.y            \n",
       "1 0          2017        NA      62                Drama,Fantasy,Horror\n",
       "2 0          2016        NA      54                Drama,Fantasy,Horror\n",
       "3 0          2017        NA      47                Drama,Fantasy,Horror\n",
       "4 0          2017        NA      51                Drama,Fantasy,Horror\n",
       "5 0          2019        NA      76                Drama,Fantasy,Horror\n",
       "  rating.x votes.x rating.y votes.y\n",
       "1 8.7      870577  9.4      19023  \n",
       "2 8.7      870577  9.3      19912  \n",
       "3 8.7      870577  9.3      16915  \n",
       "4 8.7      870577  9.2      15465  \n",
       "5 8.7      870577  9.2      22961  "
      ]
     },
     "metadata": {},
     "output_type": "display_data"
    }
   ],
   "source": [
    "head(StrangerThingsBigMergedDF[order(StrangerThingsBigMergedDF$rating.y, decreasing = TRUE), ], n=5) #final output"
   ]
  },
  {
   "cell_type": "markdown",
   "id": "47c6229f-35f7-400c-8366-c442baa5cf47",
   "metadata": {},
   "source": [
    "Markdown notes and sentences and analysis written here."
   ]
  },
  {
   "cell_type": "markdown",
   "id": "da22f29c-d245-4d2b-9fc1-ca14cb6087d9",
   "metadata": {},
   "source": [
    "## Question 4"
   ]
  },
  {
   "cell_type": "code",
   "execution_count": 63,
   "id": "8cffc767-d1c8-4d64-b7dc-f0d2ee8a80d1",
   "metadata": {},
   "outputs": [
    {
     "data": {
      "text/plain": [
       "  episode_title_id show_title_id season_number episode_number type.x  \n",
       "1 tt7445494        tt4574334     3             1              tvSeries\n",
       "2 tt7640050        tt4574334     3             2              tvSeries\n",
       "3 tt7911866        tt4574334     3             3              tvSeries\n",
       "  primary_title.x original_title.x is_adult.x premiered.x ended.x\n",
       "1 Stranger Things Stranger Things  0          2016        NA     \n",
       "2 Stranger Things Stranger Things  0          2016        NA     \n",
       "3 Stranger Things Stranger Things  0          2016        NA     \n",
       "  runtime_minutes.x genres.x             type.y   \n",
       "1 51                Drama,Fantasy,Horror tvEpisode\n",
       "2 51                Drama,Fantasy,Horror tvEpisode\n",
       "3 51                Drama,Fantasy,Horror tvEpisode\n",
       "  primary_title.y                                 \n",
       "1 Chapter One: Suzie, Do You Copy?                \n",
       "2 Chapter Two: The Mall Rats                      \n",
       "3 Chapter Three: The Case of the Missing Lifeguard\n",
       "  original_title.y                                 is_adult.y premiered.y\n",
       "1 Chapter One: Suzie, Do You Copy?                 0          2019       \n",
       "2 Chapter Two: The Mall Rats                       0          2019       \n",
       "3 Chapter Three: The Case of the Missing Lifeguard 0          2019       \n",
       "  ended.y runtime_minutes.y genres.y             rating.x votes.x rating.y\n",
       "1 NA      50                Drama,Fantasy,Horror 8.7      870577  7.9     \n",
       "2 NA      50                Drama,Fantasy,Horror 8.7      870577  8.0     \n",
       "3 NA      49                Drama,Fantasy,Horror 8.7      870577  8.4     \n",
       "  votes.y\n",
       "1 16701  \n",
       "2 14982  \n",
       "3 14470  "
      ]
     },
     "metadata": {},
     "output_type": "display_data"
    }
   ],
   "source": [
    "StrangerThingsBigMergedDF[ (StrangerThingsBigMergedDF$season_number == 3) & (StrangerThingsBigMergedDF$rating.y < 8.5), ]"
   ]
  },
  {
   "cell_type": "code",
   "execution_count": 64,
   "id": "1f3f8210-1440-4ac0-8cca-2f7c49b43f83",
   "metadata": {},
   "outputs": [
    {
     "data": {
      "text/plain": [
       "  episode_title_id show_title_id season_number episode_number type.x  \n",
       "1 tt7445494        tt4574334     3             1              tvSeries\n",
       "2 tt7640050        tt4574334     3             2              tvSeries\n",
       "3 tt7911866        tt4574334     3             3              tvSeries\n",
       "  primary_title.x original_title.x is_adult.x premiered.x ended.x\n",
       "1 Stranger Things Stranger Things  0          2016        NA     \n",
       "2 Stranger Things Stranger Things  0          2016        NA     \n",
       "3 Stranger Things Stranger Things  0          2016        NA     \n",
       "  runtime_minutes.x genres.x             type.y   \n",
       "1 51                Drama,Fantasy,Horror tvEpisode\n",
       "2 51                Drama,Fantasy,Horror tvEpisode\n",
       "3 51                Drama,Fantasy,Horror tvEpisode\n",
       "  primary_title.y                                 \n",
       "1 Chapter One: Suzie, Do You Copy?                \n",
       "2 Chapter Two: The Mall Rats                      \n",
       "3 Chapter Three: The Case of the Missing Lifeguard\n",
       "  original_title.y                                 is_adult.y premiered.y\n",
       "1 Chapter One: Suzie, Do You Copy?                 0          2019       \n",
       "2 Chapter Two: The Mall Rats                       0          2019       \n",
       "3 Chapter Three: The Case of the Missing Lifeguard 0          2019       \n",
       "  ended.y runtime_minutes.y genres.y             rating.x votes.x rating.y\n",
       "1 NA      50                Drama,Fantasy,Horror 8.7      870577  7.9     \n",
       "2 NA      50                Drama,Fantasy,Horror 8.7      870577  8.0     \n",
       "3 NA      49                Drama,Fantasy,Horror 8.7      870577  8.4     \n",
       "  votes.y\n",
       "1 16701  \n",
       "2 14982  \n",
       "3 14470  "
      ]
     },
     "metadata": {},
     "output_type": "display_data"
    }
   ],
   "source": [
    "subset(StrangerThingsBigMergedDF, (season_number == 3) & (rating.y < 8.5))"
   ]
  },
  {
   "cell_type": "markdown",
   "id": "0d552245-b4d6-474a-9cc9-fa7b8e674d55",
   "metadata": {},
   "source": [
    "Markdown notes and sentences and analysis written here."
   ]
  },
  {
   "cell_type": "markdown",
   "id": "88c9cdac-3e92-498f-83fa-e089bfc44ac8",
   "metadata": {},
   "source": [
    "## Question 5"
   ]
  },
  {
   "cell_type": "code",
   "execution_count": 66,
   "id": "d370d7c9-06db-42b9-b75f-240481a5c491",
   "metadata": {},
   "outputs": [
    {
     "data": {
      "text/plain": [
       "  episode_title_id show_title_id season_number episode_number type.x  \n",
       "1 tt7445494        tt4574334     3             1              tvSeries\n",
       "2 tt7640050        tt4574334     3             2              tvSeries\n",
       "3 tt7911866        tt4574334     3             3              tvSeries\n",
       "  primary_title.x original_title.x is_adult.x premiered.x ended.x\n",
       "1 Stranger Things Stranger Things  0          2016        NA     \n",
       "2 Stranger Things Stranger Things  0          2016        NA     \n",
       "3 Stranger Things Stranger Things  0          2016        NA     \n",
       "  runtime_minutes.x genres.x             type.y   \n",
       "1 51                Drama,Fantasy,Horror tvEpisode\n",
       "2 51                Drama,Fantasy,Horror tvEpisode\n",
       "3 51                Drama,Fantasy,Horror tvEpisode\n",
       "  primary_title.y                                 \n",
       "1 Chapter One: Suzie, Do You Copy?                \n",
       "2 Chapter Two: The Mall Rats                      \n",
       "3 Chapter Three: The Case of the Missing Lifeguard\n",
       "  original_title.y                                 is_adult.y premiered.y\n",
       "1 Chapter One: Suzie, Do You Copy?                 0          2019       \n",
       "2 Chapter Two: The Mall Rats                       0          2019       \n",
       "3 Chapter Three: The Case of the Missing Lifeguard 0          2019       \n",
       "  ended.y runtime_minutes.y genres.y             rating.x votes.x rating.y\n",
       "1 NA      50                Drama,Fantasy,Horror 8.7      870577  7.9     \n",
       "2 NA      50                Drama,Fantasy,Horror 8.7      870577  8.0     \n",
       "3 NA      49                Drama,Fantasy,Horror 8.7      870577  8.4     \n",
       "  votes.y\n",
       "1 16701  \n",
       "2 14982  \n",
       "3 14470  "
      ]
     },
     "metadata": {},
     "output_type": "display_data"
    }
   ],
   "source": [
    "myseason <- 3\n",
    "subset(StrangerThingsBigMergedDF, (season_number == myseason) & (rating.y < 8.5))\n",
    "\n",
    "#This is fine as variable name is different"
   ]
  },
  {
   "cell_type": "code",
   "execution_count": 67,
   "id": "c2658b3b-d2d1-480c-8714-4d91f4fba002",
   "metadata": {},
   "outputs": [
    {
     "data": {
      "text/plain": [
       "  episode_title_id show_title_id season_number episode_number type.x  \n",
       "1 tt6020684        tt4574334     2             1              tvSeries\n",
       "2 tt6020792        tt4574334     2             2              tvSeries\n",
       "3 tt6020810        tt4574334     2             7              tvSeries\n",
       "4 tt7445494        tt4574334     3             1              tvSeries\n",
       "5 tt7640050        tt4574334     3             2              tvSeries\n",
       "6 tt7911866        tt4574334     3             3              tvSeries\n",
       "  primary_title.x original_title.x is_adult.x premiered.x ended.x\n",
       "1 Stranger Things Stranger Things  0          2016        NA     \n",
       "2 Stranger Things Stranger Things  0          2016        NA     \n",
       "3 Stranger Things Stranger Things  0          2016        NA     \n",
       "4 Stranger Things Stranger Things  0          2016        NA     \n",
       "5 Stranger Things Stranger Things  0          2016        NA     \n",
       "6 Stranger Things Stranger Things  0          2016        NA     \n",
       "  runtime_minutes.x genres.x             type.y   \n",
       "1 51                Drama,Fantasy,Horror tvEpisode\n",
       "2 51                Drama,Fantasy,Horror tvEpisode\n",
       "3 51                Drama,Fantasy,Horror tvEpisode\n",
       "4 51                Drama,Fantasy,Horror tvEpisode\n",
       "5 51                Drama,Fantasy,Horror tvEpisode\n",
       "6 51                Drama,Fantasy,Horror tvEpisode\n",
       "  primary_title.y                                 \n",
       "1 Chapter One: MADMAX                             \n",
       "2 Chapter Two: Trick or Treat, Freak              \n",
       "3 Chapter Seven: The Lost Sister                  \n",
       "4 Chapter One: Suzie, Do You Copy?                \n",
       "5 Chapter Two: The Mall Rats                      \n",
       "6 Chapter Three: The Case of the Missing Lifeguard\n",
       "  original_title.y                                 is_adult.y premiered.y\n",
       "1 Chapter One: MADMAX                              0          2017       \n",
       "2 Chapter Two: Trick or Treat, Freak               0          2017       \n",
       "3 Chapter Seven: The Lost Sister                   0          2017       \n",
       "4 Chapter One: Suzie, Do You Copy?                 0          2019       \n",
       "5 Chapter Two: The Mall Rats                       0          2019       \n",
       "6 Chapter Three: The Case of the Missing Lifeguard 0          2019       \n",
       "  ended.y runtime_minutes.y genres.y             rating.x votes.x rating.y\n",
       "1 NA      48                Drama,Fantasy,Horror 8.7      870577  8.3     \n",
       "2 NA      56                Drama,Fantasy,Horror 8.7      870577  8.4     \n",
       "3 NA      45                Drama,Fantasy,Horror 8.7      870577  6.1     \n",
       "4 NA      50                Drama,Fantasy,Horror 8.7      870577  7.9     \n",
       "5 NA      50                Drama,Fantasy,Horror 8.7      870577  8.0     \n",
       "6 NA      49                Drama,Fantasy,Horror 8.7      870577  8.4     \n",
       "  votes.y\n",
       "1 15678  \n",
       "2 14554  \n",
       "3 22503  \n",
       "4 16701  \n",
       "5 14982  \n",
       "6 14470  "
      ]
     },
     "metadata": {},
     "output_type": "display_data"
    }
   ],
   "source": [
    "season_number <- 3\n",
    "subset(StrangerThingsBigMergedDF, (season_number == season_number) & (rating.y < 8.5))\n",
    "\n",
    "#This is wrong don't do this"
   ]
  },
  {
   "cell_type": "code",
   "execution_count": null,
   "id": "6a4b6dc4-334c-4854-8298-731928fae829",
   "metadata": {},
   "outputs": [],
   "source": []
  },
  {
   "cell_type": "markdown",
   "id": "9fbf00fb-2418-460f-ae94-2a32b0c28952",
   "metadata": {},
   "source": [
    "Question 5 Response: \n",
    "In the above code, the reason as to why the second block of code doesn't give accurate results for the season number, the episode number, and it even outputting extra data. This is because the R programming language doesn't know the difference between local variables created by users and the variables within dataset and thus can't evalutate. I will ensure that every time that there is a variable name that I want to use, I will check that there no overlap in other dataframes or even other function names within R!"
   ]
  },
  {
   "cell_type": "markdown",
   "id": "f76442d6-d02e-4f26-b9d6-c3183e1d6929",
   "metadata": {},
   "source": [
    "## Pledge\n",
    "\n",
    "By submitting this work I hereby pledge that this is my own, personal work. I've acknowledged in the designated place at the top of this file all sources that I used to complete said work, including but not limited to: online resources, books, and electronic communications. I've noted all collaboration with fellow students and/or TA's. I did not copy or plagiarize another's work.\n",
    "\n",
    "> As a Boilermaker pursuing academic excellence, I pledge to be honest and true in all that I do. Accountable together – We are Purdue."
   ]
  }
 ],
 "metadata": {
  "kernelspec": {
   "display_name": "seminar-r",
   "language": "R",
   "name": "seminar-r"
  },
  "language_info": {
   "codemirror_mode": "r",
   "file_extension": ".r",
   "mimetype": "text/x-r-source",
   "name": "R",
   "pygments_lexer": "r",
   "version": "4.3.1"
  }
 },
 "nbformat": 4,
 "nbformat_minor": 5
}
