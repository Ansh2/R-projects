{
 "cells": [
  {
   "cell_type": "markdown",
   "id": "be02a957-7133-4d02-818e-fedeb3cecb05",
   "metadata": {},
   "source": [
    "# Project 06 -- Ansh Tandon"
   ]
  },
  {
   "cell_type": "markdown",
   "id": "a1228853-dd19-4ab2-89e0-0394d7d72de3",
   "metadata": {},
   "source": [
    "**TA Help:** John Smith, Alice Jones\n",
    "\n",
    "- Help with figuring out how to write a function.\n",
    "    \n",
    "**Collaboration:** Friend1, Friend2\n",
    "    \n",
    "- Helped figuring out how to load the dataset.\n",
    "- Helped debug error with my plot."
   ]
  },
  {
   "cell_type": "markdown",
   "id": "6180e742-8e39-4698-98ff-5b00c8cf8ea0",
   "metadata": {},
   "source": [
    "## Question 1"
   ]
  },
  {
   "cell_type": "code",
   "execution_count": 7,
   "id": "49445606-d363-41b4-b479-e319a9a84c01",
   "metadata": {},
   "outputs": [],
   "source": [
    "myDF <- read.csv(\"/anvil/projects/tdm/data/olympics/athlete_events.csv\", stringsAsFactors=TRUE)"
   ]
  },
  {
   "cell_type": "code",
   "execution_count": 8,
   "id": "be761bef-afde-4392-9947-21968529c229",
   "metadata": {},
   "outputs": [],
   "source": [
    "options(jupyter.rich_display = F)"
   ]
  },
  {
   "cell_type": "code",
   "execution_count": 9,
   "id": "126720b7-6e50-43f7-85c3-1c45b530378a",
   "metadata": {},
   "outputs": [],
   "source": [
    "options(repr.matrix.max.cols=30, repr.matrix.max.rows=200)"
   ]
  },
  {
   "cell_type": "code",
   "execution_count": 10,
   "id": "bfbc3ed5-af7d-4ebd-982b-0294fa9cfbc5",
   "metadata": {},
   "outputs": [
    {
     "data": {
      "text/plain": [
       "  ID Name                     Sex Age Height Weight Team           NOC\n",
       "1 1  A Dijiang                M   24  180    80     China          CHN\n",
       "2 2  A Lamusi                 M   23  170    60     China          CHN\n",
       "3 3  Gunnar Nielsen Aaby      M   24   NA    NA     Denmark        DEN\n",
       "4 4  Edgar Lindenau Aabye     M   34   NA    NA     Denmark/Sweden DEN\n",
       "5 5  Christine Jacoba Aaftink F   21  185    82     Netherlands    NED\n",
       "6 5  Christine Jacoba Aaftink F   21  185    82     Netherlands    NED\n",
       "  Games       Year Season City      Sport        \n",
       "1 1992 Summer 1992 Summer Barcelona Basketball   \n",
       "2 2012 Summer 2012 Summer London    Judo         \n",
       "3 1920 Summer 1920 Summer Antwerpen Football     \n",
       "4 1900 Summer 1900 Summer Paris     Tug-Of-War   \n",
       "5 1988 Winter 1988 Winter Calgary   Speed Skating\n",
       "6 1988 Winter 1988 Winter Calgary   Speed Skating\n",
       "  Event                              Medal\n",
       "1 Basketball Men's Basketball        NA   \n",
       "2 Judo Men's Extra-Lightweight       NA   \n",
       "3 Football Men's Football            NA   \n",
       "4 Tug-Of-War Men's Tug-Of-War        Gold \n",
       "5 Speed Skating Women's 500 metres   NA   \n",
       "6 Speed Skating Women's 1,000 metres NA   "
      ]
     },
     "metadata": {},
     "output_type": "display_data"
    }
   ],
   "source": [
    "head(myDF)"
   ]
  },
  {
   "cell_type": "code",
   "execution_count": 12,
   "id": "4f181c6b-7432-4e8e-81bb-b1ac48b3714b",
   "metadata": {},
   "outputs": [
    {
     "data": {
      "text/plain": [
       "\n",
       "1896 Summer 1900 Summer 1904 Summer 1906 Summer 1908 Summer 1912 Summer \n",
       "        380        1936        1301        1733        3101        4040 \n",
       "1920 Summer 1924 Summer 1924 Winter 1928 Summer 1928 Winter 1932 Summer \n",
       "       4292        5233         460        4992         582        2969 \n",
       "1932 Winter 1936 Summer 1936 Winter 1948 Summer 1948 Winter 1952 Summer \n",
       "        352        6506         895        6405        1075        8270 \n",
       "1952 Winter 1956 Summer 1956 Winter 1960 Summer 1960 Winter 1964 Summer \n",
       "       1088        5127        1307        8119        1116        7702 \n",
       "1964 Winter 1968 Summer 1968 Winter 1972 Summer 1972 Winter 1976 Summer \n",
       "       1778        8588        1891       10304        1655        8641 \n",
       "1976 Winter 1980 Summer 1980 Winter 1984 Summer 1984 Winter 1988 Summer \n",
       "       1861        7191        1746        9454        2134       12037 \n",
       "1988 Winter 1992 Summer 1992 Winter 1994 Winter 1996 Summer 1998 Winter \n",
       "       2639       12977        3436        3160       13780        3605 \n",
       "2000 Summer 2002 Winter 2004 Summer 2006 Winter 2008 Summer 2010 Winter \n",
       "      13821        4109       13443        4382       13602        4402 \n",
       "2012 Summer 2014 Winter 2016 Summer \n",
       "      12920        4891       13688 "
      ]
     },
     "metadata": {},
     "output_type": "display_data"
    }
   ],
   "source": [
    "table(myDF$Games)"
   ]
  },
  {
   "cell_type": "code",
   "execution_count": 14,
   "id": "ca3b27a4-5330-4765-9ea7-ee308e898041",
   "metadata": {},
   "outputs": [],
   "source": [
    "my1980DF <- subset(myDF, Year == \"1980\")"
   ]
  },
  {
   "cell_type": "code",
   "execution_count": 18,
   "id": "21e3f31e-967f-4dc5-9269-6f58da90dda3",
   "metadata": {},
   "outputs": [
    {
     "data": {
      "text/plain": [
       "\n",
       "AFG AHO ALB ALG AND ANG ANT ANZ ARG ARM ARU ASA AUS AUT AZE BAH BAN BAR BDI BEL \n",
       " 11   0   0  63  11  17   0   0  26   0   0   0 209 158   0   0   0   0   0  90 \n",
       "BEN BER BHU BIH BIZ BLR BOH BOL BOT BRA BRN BRU BUL BUR CAF CAM CAN CAY CGO CHA \n",
       " 17   0   0   0   0   0   0   8   8 149   0   0 413   0   0   0  86   0  25   0 \n",
       "CHI CHN CIV CMR COD COK COL COM CPV CRC CRO CRT CUB CYP CZE DEN DJI DMA DOM ECU \n",
       "  0  38   0  29   0   0  28   0   0  40   0   0 288  21   0  60   0   0   7  16 \n",
       "EGY ERI ESA ESP EST ETH EUN FIJ FIN FRA FRG FSM GAB GAM GBR GBS GDR GEO GEQ GER \n",
       "  0   0   0 226   0  48   0   0 210 244 118   0   0   0 404   0 582   0   0   0 \n",
       "GHA GRE GRN GUA GUI GUM GUY HAI HKG HON HUN INA IND IOA IRI IRL IRQ ISL ISR ISV \n",
       "  0  51   0  10  10   0  10   0   0   0 394   0  78   0   0  57  44  24   0   0 \n",
       "ITA IVB JAM JOR JPN KAZ KEN KGZ KIR KOR KOS KSA KUW LAO LAT LBA LBR LCA LES LIB \n",
       "277   0  32   6  80   0   0   0   0  24   0   0  67  19   0  38   0   0   7  26 \n",
       "LIE LTU LUX MAD MAL MAR MAS MAW MDA MDV MEX MGL MHL MKD MLI MLT MNE MON MOZ MRI \n",
       " 17   0   4  18   0   0   0   0   0   0  74  67   0   0   7  12   0   0  16   0 \n",
       "MTN MYA NAM NBO NCA NED NEP NFL NGR NIG NOR NRU NZL OMA PAK PAN PAR PER PHI PLE \n",
       "  0   2   0   0   6 159  10   0  56   0 100   0  18   0   0   0   0  38   0   0 \n",
       "PLW PNG POL POR PRK PUR QAT RHO ROT ROU RSA RUS RWA SAA SAM SCG SEN SEY SGP SKN \n",
       "  0   0 457  18 121   3   0   0   0 381   0   0   0   0   0   0  39  21   0   0 \n",
       "SLE SLO SMR SOL SOM SRB SRI SSD STP SUD SUI SUR SVK SWE SWZ SYR TAN TCH TGA THA \n",
       " 32   0  16   0   0   0   4   0   0   0 159   0   0 310   0  71  48 391   0   0 \n",
       "TJK TKM TLS TOG TPE TTO TUN TUR TUV UAE UAR UGA UKR UNK URS URU USA UZB VAN VEN \n",
       "  0   0   0   0   0  15   0   0   0   0   0  16   0   0 789   0 155   0   0  43 \n",
       "VIE VIN VNM WIF YAR YEM YMD YUG ZAM ZIM \n",
       " 38   0   0   0   0   0   0 207  43  52 "
      ]
     },
     "metadata": {},
     "output_type": "display_data"
    }
   ],
   "source": [
    "table(my1980DF$NOC)"
   ]
  },
  {
   "cell_type": "code",
   "execution_count": 21,
   "id": "019fcd23-b55d-4f33-b176-0536b1d14c17",
   "metadata": {},
   "outputs": [
    {
     "data": {
      "text/plain": [
       "[1] A Dijiang                A Lamusi                 Gunnar Nielsen Aaby     \n",
       "[4] Edgar Lindenau Aabye     Christine Jacoba Aaftink Christine Jacoba Aaftink\n",
       "134732 Levels:   Gabrielle Marie \"Gabby\" Adcock (White-) ..."
      ]
     },
     "metadata": {},
     "output_type": "display_data"
    }
   ],
   "source": [
    "head(myDF$Name)"
   ]
  },
  {
   "cell_type": "code",
   "execution_count": 22,
   "id": "023badfd-0b4f-4538-b429-3b4ed7bdd1a5",
   "metadata": {},
   "outputs": [
    {
     "data": {
      "text/plain": [
       "[1] Christine Jacoba Aaftink Christine Jacoba Aaftink Christine Jacoba Aaftink\n",
       "[4] Christine Jacoba Aaftink Christine Jacoba Aaftink Per Knut Aaland         \n",
       "134732 Levels:   Gabrielle Marie \"Gabby\" Adcock (White-) ..."
      ]
     },
     "metadata": {},
     "output_type": "display_data"
    }
   ],
   "source": [
    "head(myDF$Name[duplicated(myDF$Name)])"
   ]
  },
  {
   "cell_type": "code",
   "execution_count": 23,
   "id": "4fb4099c-a0b9-4847-89f2-266e61cde37f",
   "metadata": {},
   "outputs": [],
   "source": [
    "myduplicatedathletes <- unique(myDF$Name[duplicated(myDF$Name)])"
   ]
  },
  {
   "cell_type": "code",
   "execution_count": 24,
   "id": "10456e3f-d9f1-4fac-a1e9-cc50b756fb25",
   "metadata": {},
   "outputs": [
    {
     "data": {
      "text/plain": [
       "[1] 271116     15"
      ]
     },
     "metadata": {},
     "output_type": "display_data"
    }
   ],
   "source": [
    "dim(myDF)"
   ]
  },
  {
   "cell_type": "code",
   "execution_count": 25,
   "id": "3bb537b2-60ac-4156-8f97-a6c0eb845729",
   "metadata": {},
   "outputs": [],
   "source": [
    "mynewDF <- subset(myDF, Name %in% myduplicatedathletes)"
   ]
  },
  {
   "cell_type": "code",
   "execution_count": 26,
   "id": "6b6a077f-fe4a-419f-8988-7c00d6198996",
   "metadata": {},
   "outputs": [
    {
     "data": {
      "text/plain": [
       "[1] 194107     15"
      ]
     },
     "metadata": {},
     "output_type": "display_data"
    }
   ],
   "source": [
    "dim(mynewDF)"
   ]
  },
  {
   "cell_type": "markdown",
   "id": "b456e57c-4a12-464b-999a-ef2df5af80c1",
   "metadata": {},
   "source": [
    "Markdown notes and sentences and analysis written here."
   ]
  },
  {
   "cell_type": "markdown",
   "id": "fc601975-35ed-4680-a4e1-0273ee3cc047",
   "metadata": {},
   "source": [
    "## Question 2"
   ]
  },
  {
   "cell_type": "code",
   "execution_count": 27,
   "id": "a16336a1-1ef0-41e8-bc7c-49387db27497",
   "metadata": {},
   "outputs": [
    {
     "data": {
      "text/plain": [
       "     AFG      AHO      ALB      ALG      AND      ANG      ANT      ANZ \n",
       "      NA       NA 25.34286       NA 23.06509 24.91011       NA       NA \n",
       "     ARG      ARM      ARU      ASA      AUS      AUT      AZE      BAH \n",
       "      NA 24.60633 24.85714 27.21622       NA       NA 25.42756 26.36096 \n",
       "     BAN      BAR      BDI      BEL      BEN      BER      BHU      BIH \n",
       "22.63636       NA 24.43590       NA       NA       NA 25.97222 25.72388 \n",
       "     BIZ      BLR      BOH      BOL      BOT      BRA      BRN      BRU \n",
       "      NA 25.74930       NA       NA       NA       NA       NA 22.30000 \n",
       "     BUL      BUR      CAF      CAM      CAN      CAY      CGO      CHA \n",
       "      NA       NA       NA       NA       NA       NA       NA       NA \n",
       "     CHI      CHN      CIV      CMR      COD      COK      COL      COM \n",
       "      NA       NA       NA       NA 23.98925 22.85000       NA 22.21053 \n",
       "     CPV      CRC      CRO      CRT      CUB      CYP      CZE      DEN \n",
       "25.83333       NA 25.18379       NA       NA 24.19111 25.97012       NA \n",
       "     DJI      DMA      DOM      ECU      EGY      ERI      ESA      ESP \n",
       "      NA 25.63158       NA       NA       NA 24.67442       NA       NA \n",
       "     EST      ETH      EUN      FIJ      FIN      FRA      FRG      FSM \n",
       "25.55479       NA       NA       NA       NA       NA 24.44012 23.84615 \n",
       "     GAB      GAM      GBR      GBS      GDR      GEO      GEQ      GER \n",
       "24.26984       NA       NA 25.80952 23.12665 25.27972 22.92500       NA \n",
       "     GHA      GRE      GRN      GUA      GUI      GUM      GUY      HAI \n",
       "      NA       NA       NA       NA       NA       NA       NA       NA \n",
       "     HKG      HON      HUN      INA      IND      IOA      IRI      IRL \n",
       "      NA       NA       NA       NA       NA 25.07447       NA       NA \n",
       "     IRQ      ISL      ISR      ISV      ITA      IVB      JAM      JOR \n",
       "      NA 23.76874       NA       NA       NA 26.20000       NA       NA \n",
       "     JPN      KAZ      KEN      KGZ      KIR      KOR      KOS      KSA \n",
       "      NA 25.40938       NA 24.30837 21.63636       NA 23.87500       NA \n",
       "     KUW      LAO      LAT      LBA      LBR      LCA      LES      LIB \n",
       "      NA 21.57407       NA       NA       NA 23.92857 24.90909       NA \n",
       "     LIE      LTU      LUX      MAD      MAL      MAR      MAS      MAW \n",
       "      NA       NA       NA       NA       NA       NA       NA 24.17241 \n",
       "     MDA      MDV      MEX      MGL      MHL      MKD      MLI      MLT \n",
       "25.54274 20.91837       NA       NA 20.28571 22.29762       NA       NA \n",
       "     MNE      MON      MOZ      MRI      MTN      MYA      NAM      NBO \n",
       "27.07447       NA       NA 23.33333       NA       NA 27.85714 22.50000 \n",
       "     NCA      NED      NEP      NFL      NGR      NIG      NOR      NRU \n",
       "      NA       NA       NA 21.00000       NA       NA 26.79657 23.46154 \n",
       "     NZL      OMA      PAK      PAN      PAR      PER      PHI      PLE \n",
       "25.66781       NA       NA       NA 24.02222       NA       NA 24.00000 \n",
       "     PLW      PNG      POL      POR      PRK      PUR      QAT      RHO \n",
       "22.68000       NA       NA       NA       NA       NA       NA 25.50000 \n",
       "     ROT      ROU      RSA      RUS      RWA      SAA      SAM      SCG \n",
       "23.91667       NA       NA       NA       NA 25.06452 25.74603 25.41121 \n",
       "     SEN      SEY      SGP      SKN      SLE      SLO      SMR      SOL \n",
       "      NA 22.64865       NA 24.97619       NA 25.30603 25.78453       NA \n",
       "     SOM      SRB      SRI      SSD      STP      SUD      SUI      SUR \n",
       "      NA 26.41327       NA 24.00000 22.20000       NA       NA       NA \n",
       "     SVK      SWE      SWZ      SYR      TAN      TCH      TGA      THA \n",
       "26.07583       NA 24.14925       NA       NA       NA 24.32609       NA \n",
       "     TJK      TKM      TLS      TOG      TPE      TTO      TUN      TUR \n",
       "26.55714 23.87037 24.77778       NA       NA       NA       NA       NA \n",
       "     TUV      UAE      UAR      UGA      UKR      UNK      URS      URU \n",
       "20.14286       NA       NA       NA 25.05393       NA       NA       NA \n",
       "     USA      UZB      VAN      VEN      VIE      VIN      VNM      WIF \n",
       "      NA 24.39798 24.05714       NA 24.16234 21.54762       NA 26.20000 \n",
       "     YAR      YEM      YMD      YUG      ZAM      ZIM \n",
       "22.18182 21.09375 23.60000       NA       NA       NA "
      ]
     },
     "metadata": {},
     "output_type": "display_data"
    }
   ],
   "source": [
    "tapply(myDF$Age, myDF$NOC, mean)"
   ]
  },
  {
   "cell_type": "code",
   "execution_count": 39,
   "id": "93372603-a520-47e7-aaef-5192f3eac895",
   "metadata": {},
   "outputs": [
    {
     "name": "stderr",
     "output_type": "stream",
     "text": [
      "Warning message in FUN(X[[i]], ...):\n",
      "\"no non-missing arguments to max; returning -Inf\"\n",
      "Warning message in FUN(X[[i]], ...):\n",
      "\"no non-missing arguments to max; returning -Inf\"\n",
      "Warning message in FUN(X[[i]], ...):\n",
      "\"no non-missing arguments to max; returning -Inf\"\n",
      "Warning message in FUN(X[[i]], ...):\n",
      "\"no non-missing arguments to max; returning -Inf\"\n",
      "Warning message in FUN(X[[i]], ...):\n",
      "\"no non-missing arguments to max; returning -Inf\"\n",
      "Warning message in FUN(X[[i]], ...):\n",
      "\"no non-missing arguments to max; returning -Inf\"\n",
      "Warning message in FUN(X[[i]], ...):\n",
      "\"no non-missing arguments to max; returning -Inf\"\n"
     ]
    }
   ],
   "source": [
    "myDFMax <- tapply(myDF$Height, myDF$Sport, max, na.rm = TRUE)"
   ]
  },
  {
   "cell_type": "code",
   "execution_count": 40,
   "id": "a485a256-9cc8-4845-95b4-73816fd5e473",
   "metadata": {},
   "outputs": [],
   "source": [
    "myDFMaxSorted <- sort(myDFMax)"
   ]
  },
  {
   "cell_type": "code",
   "execution_count": 45,
   "id": "5f4bd633-4bcd-4770-8d2d-f13b639a1a21",
   "metadata": {},
   "outputs": [
    {
     "data": {
      "text/plain": [
       "   Sailing   Shooting   Handball  Wrestling Volleyball Basketball \n",
       "       213        213        214        214        219        226 "
      ]
     },
     "metadata": {},
     "output_type": "display_data"
    }
   ],
   "source": [
    "tail(myDFMaxSorted)"
   ]
  },
  {
   "cell_type": "markdown",
   "id": "14dc22d4-ddc3-41cc-a91a-cb0025bc0c80",
   "metadata": {},
   "source": [
    "Markdown notes and sentences and analysis written here."
   ]
  },
  {
   "cell_type": "markdown",
   "id": "8e586edd-ff26-4ce2-8f6b-2424b26f2929",
   "metadata": {},
   "source": [
    "## Question 3"
   ]
  },
  {
   "cell_type": "code",
   "execution_count": 11,
   "id": "bbe0f40d-9655-4653-9ca8-886bdb61cb91",
   "metadata": {},
   "outputs": [],
   "source": [
    "myDF <- read.csv(\"/anvil/projects/tdm/data/death_records/DeathRecords.csv\", stringsAsFactors = TRUE)"
   ]
  },
  {
   "cell_type": "code",
   "execution_count": 12,
   "id": "bdc85355-e7f5-409a-bc23-0274cdc1bbf4",
   "metadata": {},
   "outputs": [],
   "source": [
    "options(jupyter.rich_display = F)"
   ]
  },
  {
   "cell_type": "code",
   "execution_count": 13,
   "id": "89077686-756e-4772-93b6-32b1320c641d",
   "metadata": {},
   "outputs": [],
   "source": [
    "options(repr.matrix.max.cols=50, repr.matrix.max.rows=200)"
   ]
  },
  {
   "cell_type": "code",
   "execution_count": 51,
   "id": "4cd3deec-42a3-4329-bf53-80cc92cf498b",
   "metadata": {},
   "outputs": [
    {
     "data": {
      "text/plain": [
       "  Id ResidentStatus Education1989Revision Education2003Revision\n",
       "1 1  1              0                     2                    \n",
       "2 2  1              0                     2                    \n",
       "3 3  1              0                     7                    \n",
       "4 4  1              0                     6                    \n",
       "5 5  1              0                     3                    \n",
       "6 6  1              0                     5                    \n",
       "  EducationReportingFlag MonthOfDeath Sex AgeType Age AgeSubstitutionFlag\n",
       "1 1                      1            M   1       87  0                  \n",
       "2 1                      1            M   1       58  0                  \n",
       "3 1                      1            F   1       75  0                  \n",
       "4 1                      1            M   1       74  0                  \n",
       "5 1                      1            M   1       64  0                  \n",
       "6 1                      1            F   1       93  0                  \n",
       "  AgeRecode52 AgeRecode27 AgeRecode12 InfantAgeRecode22\n",
       "1 43          23          11          0                \n",
       "2 37          17           8          0                \n",
       "3 41          21          10          0                \n",
       "4 40          20           9          0                \n",
       "5 38          18           8          0                \n",
       "6 44          24          11          0                \n",
       "  PlaceOfDeathAndDecedentsStatus MaritalStatus DayOfWeekOfDeath CurrentDataYear\n",
       "1 4                              M             4                2014           \n",
       "2 4                              D             3                2014           \n",
       "3 4                              W             2                2014           \n",
       "4 6                              D             1                2014           \n",
       "5 4                              D             2                2014           \n",
       "6 6                              W             4                2014           \n",
       "  InjuryAtWork MannerOfDeath MethodOfDisposition Autopsy ActivityCode\n",
       "1 U            7             C                   N       99          \n",
       "2 U            7             C                   N       99          \n",
       "3 U            7             C                   N       99          \n",
       "4 U            7             C                   N       99          \n",
       "5 U            7             C                   N       99          \n",
       "6 U            7             C                   N       99          \n",
       "  PlaceOfInjury Icd10Code CauseRecode358 CauseRecode113 InfantCauseRecode130\n",
       "1 99            I64       238             70            0                   \n",
       "2 99            I250      214             62            0                   \n",
       "3 99            J449      267             86            0                   \n",
       "4 99            I48       228             68            0                   \n",
       "5 99            I250      214             62            0                   \n",
       "6 99            K137      280            111            0                   \n",
       "  CauseRecode39 NumberOfEntityAxisConditions NumberOfRecordAxisConditions Race\n",
       "1 24            1                            1                            1   \n",
       "2 21            3                            3                            1   \n",
       "3 28            2                            2                            1   \n",
       "4 22            3                            3                            1   \n",
       "5 21            1                            1                            1   \n",
       "6 37            5                            5                            1   \n",
       "  BridgedRaceFlag RaceImputationFlag RaceRecode3 RaceRecode5 HispanicOrigin\n",
       "1 0               0                  1           1           100           \n",
       "2 0               0                  1           1           100           \n",
       "3 0               0                  1           1           100           \n",
       "4 0               0                  1           1           100           \n",
       "5 0               0                  1           1           100           \n",
       "6 0               0                  1           1           100           \n",
       "  HispanicOriginRaceRecode\n",
       "1 6                       \n",
       "2 6                       \n",
       "3 6                       \n",
       "4 6                       \n",
       "5 6                       \n",
       "6 6                       "
      ]
     },
     "metadata": {},
     "output_type": "display_data"
    }
   ],
   "source": [
    "head(myDF)"
   ]
  },
  {
   "cell_type": "code",
   "execution_count": 54,
   "id": "cb933959-6f12-4c6d-ac47-166c9300c9f3",
   "metadata": {},
   "outputs": [
    {
     "name": "stdout",
     "output_type": "stream",
     "text": [
      "'data.frame':\t2631171 obs. of  38 variables:\n",
      " $ Id                            : int  1 2 3 4 5 6 7 8 9 10 ...\n",
      " $ ResidentStatus                : int  1 1 1 1 1 1 1 1 1 1 ...\n",
      " $ Education1989Revision         : int  0 0 0 0 0 0 0 0 0 0 ...\n",
      " $ Education2003Revision         : int  2 2 7 6 3 5 4 4 3 3 ...\n",
      " $ EducationReportingFlag        : int  1 1 1 1 1 1 1 1 1 1 ...\n",
      " $ MonthOfDeath                  : int  1 1 1 1 1 1 1 1 1 1 ...\n",
      " $ Sex                           : Factor w/ 2 levels \"F\",\"M\": 2 2 1 2 2 1 2 2 1 2 ...\n",
      " $ AgeType                       : int  1 1 1 1 1 1 1 1 1 1 ...\n",
      " $ Age                           : int  87 58 75 74 64 93 82 55 86 23 ...\n",
      " $ AgeSubstitutionFlag           : int  0 0 0 0 0 0 0 0 0 0 ...\n",
      " $ AgeRecode52                   : int  43 37 41 40 38 44 42 37 43 30 ...\n",
      " $ AgeRecode27                   : int  23 17 21 20 18 24 22 17 23 10 ...\n",
      " $ AgeRecode12                   : int  11 8 10 9 8 11 10 8 11 4 ...\n",
      " $ InfantAgeRecode22             : int  0 0 0 0 0 0 0 0 0 0 ...\n",
      " $ PlaceOfDeathAndDecedentsStatus: int  4 4 4 6 4 6 4 7 4 7 ...\n",
      " $ MaritalStatus                 : Factor w/ 5 levels \"D\",\"M\",\"S\",\"U\",..: 2 1 5 1 1 5 2 3 5 3 ...\n",
      " $ DayOfWeekOfDeath              : int  4 3 2 1 2 4 6 6 6 4 ...\n",
      " $ CurrentDataYear               : int  2014 2014 2014 2014 2014 2014 2014 2014 2014 2014 ...\n",
      " $ InjuryAtWork                  : Factor w/ 3 levels \"N\",\"U\",\"Y\": 2 2 2 2 2 2 2 2 2 1 ...\n",
      " $ MannerOfDeath                 : int  7 7 7 7 7 7 7 7 7 2 ...\n",
      " $ MethodOfDisposition           : Factor w/ 7 levels \"B\",\"C\",\"D\",\"E\",..: 2 2 2 2 2 2 2 2 2 6 ...\n",
      " $ Autopsy                       : Factor w/ 5 levels \"N\",\"U\",\"Y\",\"n\",..: 1 1 1 1 1 1 1 1 1 1 ...\n",
      " $ ActivityCode                  : int  99 99 99 99 99 99 99 99 99 9 ...\n",
      " $ PlaceOfInjury                 : int  99 99 99 99 99 99 99 99 99 5 ...\n",
      " $ Icd10Code                     : Factor w/ 3695 levels \"A020\",\"A021\",..: 1570 1440 1762 1521 1440 1846 1441 1440 1070 3540 ...\n",
      " $ CauseRecode358                : int  238 214 267 228 214 280 215 214 175 429 ...\n",
      " $ CauseRecode113                : int  70 62 86 68 62 111 63 62 111 125 ...\n",
      " $ InfantCauseRecode130          : int  0 0 0 0 0 0 0 0 0 0 ...\n",
      " $ CauseRecode39                 : int  24 21 28 22 21 37 21 21 37 40 ...\n",
      " $ NumberOfEntityAxisConditions  : int  1 3 2 3 1 5 4 2 1 3 ...\n",
      " $ NumberOfRecordAxisConditions  : int  1 3 2 3 1 5 3 2 1 3 ...\n",
      " $ Race                          : int  1 1 1 1 1 1 1 2 1 1 ...\n",
      " $ BridgedRaceFlag               : int  0 0 0 0 0 0 0 1 0 0 ...\n",
      " $ RaceImputationFlag            : int  0 0 0 0 0 0 0 0 0 0 ...\n",
      " $ RaceRecode3                   : int  1 1 1 1 1 1 1 3 1 1 ...\n",
      " $ RaceRecode5                   : int  1 1 1 1 1 1 1 2 1 1 ...\n",
      " $ HispanicOrigin                : int  100 100 100 100 100 100 100 100 100 100 ...\n",
      " $ HispanicOriginRaceRecode      : int  6 6 6 6 6 6 6 7 6 6 ...\n"
     ]
    }
   ],
   "source": [
    "str(myDF)"
   ]
  },
  {
   "cell_type": "code",
   "execution_count": 55,
   "id": "c2bfabd8-a3eb-4c76-83c8-eefc6bf559ca",
   "metadata": {},
   "outputs": [
    {
     "data": {
      "text/plain": [
       "\n",
       "     1      2      3      4      5      6      7      8      9     10     11 \n",
       "243719 212363 228872 215957 217242 205058 209757 208399 205660 218565 221740 \n",
       "    12 \n",
       "243839 "
      ]
     },
     "metadata": {},
     "output_type": "display_data"
    }
   ],
   "source": [
    "table(myDF$MonthOfDeath)"
   ]
  },
  {
   "cell_type": "code",
   "execution_count": 56,
   "id": "41daca4a-980d-4c52-af64-ad918f66d7a6",
   "metadata": {},
   "outputs": [
    {
     "data": {
      "text/plain": [
       "[1] \"integer\""
      ]
     },
     "metadata": {},
     "output_type": "display_data"
    }
   ],
   "source": [
    "class(myDF$MonthOfDeath)"
   ]
  },
  {
   "cell_type": "code",
   "execution_count": 57,
   "id": "0ed94823-f355-49fd-a8e6-003ac9aea79d",
   "metadata": {},
   "outputs": [],
   "source": [
    "month_order <- c(\"January\", \"February\", \"March\", \"April\", \"May\", \"June\", \"July\", \"August\", \"September\", \"October\", \"November\", \"December\")"
   ]
  },
  {
   "cell_type": "code",
   "execution_count": 60,
   "id": "a0e56883-4ad2-4911-ab4b-7557c339659c",
   "metadata": {},
   "outputs": [],
   "source": [
    "myDF$MonthOfDeath <- factor(myDF$MonthOfDeath)"
   ]
  },
  {
   "cell_type": "code",
   "execution_count": 61,
   "id": "8943cda3-fdd6-4f31-b349-7ef24f043055",
   "metadata": {},
   "outputs": [],
   "source": [
    "levels(myDF$MonthOfDeath) <- month_order"
   ]
  },
  {
   "cell_type": "code",
   "execution_count": 63,
   "id": "08877f9f-6e4a-4713-af5a-cc1fe8376f3c",
   "metadata": {},
   "outputs": [
    {
     "data": {
      "text/plain": [
       " [1] January January January January January January January January January\n",
       "[10] January January January January January January January January January\n",
       "[19] January January January January January January January January January\n",
       "[28] January January January January January January January January January\n",
       "[37] January January January January January January January January January\n",
       "[46] January January January January January\n",
       "12 Levels: January February March April May June July August ... December"
      ]
     },
     "metadata": {},
     "output_type": "display_data"
    }
   ],
   "source": [
    "head(myDF$MonthOfDeath, n=50)"
   ]
  },
  {
   "cell_type": "code",
   "execution_count": 64,
   "id": "7043a934-84b5-48d6-8c98-96919f9a7d41",
   "metadata": {},
   "outputs": [
    {
     "data": {
      "text/plain": [
       "\n",
       "  January  February     March     April       May      June      July    August \n",
       "   243719    212363    228872    215957    217242    205058    209757    208399 \n",
       "September   October  November  December \n",
       "   205660    218565    221740    243839 "
      ]
     },
     "metadata": {},
     "output_type": "display_data"
    }
   ],
   "source": [
    "table(myDF$MonthOfDeath)"
   ]
  },
  {
   "cell_type": "markdown",
   "id": "47c6229f-35f7-400c-8366-c442baa5cf47",
   "metadata": {},
   "source": [
    "3a. There are 2631171 observations given in this data frame. \n",
    "\n",
    "3c. 243719 people died in January, 212363 died in February, 228872 died in March, 215957 died in April, 217242 died in May, 205058 died in June, 209757 died in July, 208399 died in August, 205660 died in September, 218565 died in October, 221740 died in November, and 243839 died in December. "
   ]
  },
  {
   "cell_type": "markdown",
   "id": "da22f29c-d245-4d2b-9fc1-ca14cb6087d9",
   "metadata": {},
   "source": [
    "## Question 4"
   ]
  },
  {
   "cell_type": "code",
   "execution_count": 65,
   "id": "8cffc767-d1c8-4d64-b7dc-f0d2ee8a80d1",
   "metadata": {},
   "outputs": [
    {
     "data": {
      "text/plain": [
       "  Id ResidentStatus Education1989Revision Education2003Revision\n",
       "1 1  1              0                     2                    \n",
       "2 2  1              0                     2                    \n",
       "3 3  1              0                     7                    \n",
       "4 4  1              0                     6                    \n",
       "5 5  1              0                     3                    \n",
       "6 6  1              0                     5                    \n",
       "  EducationReportingFlag MonthOfDeath Sex AgeType Age AgeSubstitutionFlag\n",
       "1 1                      January      M   1       87  0                  \n",
       "2 1                      January      M   1       58  0                  \n",
       "3 1                      January      F   1       75  0                  \n",
       "4 1                      January      M   1       74  0                  \n",
       "5 1                      January      M   1       64  0                  \n",
       "6 1                      January      F   1       93  0                  \n",
       "  AgeRecode52 AgeRecode27 AgeRecode12 InfantAgeRecode22\n",
       "1 43          23          11          0                \n",
       "2 37          17           8          0                \n",
       "3 41          21          10          0                \n",
       "4 40          20           9          0                \n",
       "5 38          18           8          0                \n",
       "6 44          24          11          0                \n",
       "  PlaceOfDeathAndDecedentsStatus MaritalStatus DayOfWeekOfDeath CurrentDataYear\n",
       "1 4                              M             4                2014           \n",
       "2 4                              D             3                2014           \n",
       "3 4                              W             2                2014           \n",
       "4 6                              D             1                2014           \n",
       "5 4                              D             2                2014           \n",
       "6 6                              W             4                2014           \n",
       "  InjuryAtWork MannerOfDeath MethodOfDisposition Autopsy ActivityCode\n",
       "1 U            7             C                   N       99          \n",
       "2 U            7             C                   N       99          \n",
       "3 U            7             C                   N       99          \n",
       "4 U            7             C                   N       99          \n",
       "5 U            7             C                   N       99          \n",
       "6 U            7             C                   N       99          \n",
       "  PlaceOfInjury Icd10Code CauseRecode358 CauseRecode113 InfantCauseRecode130\n",
       "1 99            I64       238             70            0                   \n",
       "2 99            I250      214             62            0                   \n",
       "3 99            J449      267             86            0                   \n",
       "4 99            I48       228             68            0                   \n",
       "5 99            I250      214             62            0                   \n",
       "6 99            K137      280            111            0                   \n",
       "  CauseRecode39 NumberOfEntityAxisConditions NumberOfRecordAxisConditions Race\n",
       "1 24            1                            1                            1   \n",
       "2 21            3                            3                            1   \n",
       "3 28            2                            2                            1   \n",
       "4 22            3                            3                            1   \n",
       "5 21            1                            1                            1   \n",
       "6 37            5                            5                            1   \n",
       "  BridgedRaceFlag RaceImputationFlag RaceRecode3 RaceRecode5 HispanicOrigin\n",
       "1 0               0                  1           1           100           \n",
       "2 0               0                  1           1           100           \n",
       "3 0               0                  1           1           100           \n",
       "4 0               0                  1           1           100           \n",
       "5 0               0                  1           1           100           \n",
       "6 0               0                  1           1           100           \n",
       "  HispanicOriginRaceRecode\n",
       "1 6                       \n",
       "2 6                       \n",
       "3 6                       \n",
       "4 6                       \n",
       "5 6                       \n",
       "6 6                       "
      ]
     },
     "metadata": {},
     "output_type": "display_data"
    }
   ],
   "source": [
    "head(myDF)"
   ]
  },
  {
   "cell_type": "code",
   "execution_count": 67,
   "id": "bbcef100-9df0-498a-bd02-87753c174a81",
   "metadata": {},
   "outputs": [
    {
     "data": {
      "text/plain": [
       "\n",
       "      F       M \n",
       "1299710 1331461 "
      ]
     },
     "metadata": {},
     "output_type": "display_data"
    }
   ],
   "source": [
    "table(myDF$Sex)"
   ]
  },
  {
   "cell_type": "code",
   "execution_count": 68,
   "id": "b662201a-65c9-4196-a610-c8d8427e698c",
   "metadata": {},
   "outputs": [
    {
     "data": {
      "text/plain": [
       "\n",
       "      1       2       3       4       5       6       7      18      28      38 \n",
       "2241510  309504   18031   13297    8159     700   11074    6778    4711     623 \n",
       "     48      58      68      78 \n",
       "   4913     316    8737    2818 "
      ]
     },
     "metadata": {},
     "output_type": "display_data"
    }
   ],
   "source": [
    "table(myDF$Race)"
   ]
  },
  {
   "cell_type": "code",
   "execution_count": 71,
   "id": "7830e660-1d32-4c01-bb07-c0ba03738fed",
   "metadata": {},
   "outputs": [
    {
     "data": {
      "text/plain": [
       "\n",
       "      1       2       3       4       7      68       5      18      48      28 \n",
       "2241510  309504   18031   13297   11074    8737    8159    6778    4913    4711 \n",
       "     78       6      38      58 \n",
       "   2818     700     623     316 "
      ]
     },
     "metadata": {},
     "output_type": "display_data"
    }
   ],
   "source": [
    "sort(table(myDF$Race), decreasing = TRUE)"
   ]
  },
  {
   "cell_type": "code",
   "execution_count": 15,
   "id": "593b4576-2e25-4484-8ad8-8c281f1ecac1",
   "metadata": {},
   "outputs": [],
   "source": [
    "myFemale <- myDF[myDF$Sex == \"F\", ]"
   ]
  },
  {
   "cell_type": "code",
   "execution_count": 16,
   "id": "94b2b334-5ca5-4c06-a8bf-65b8e5a096ea",
   "metadata": {},
   "outputs": [
    {
     "data": {
      "text/plain": [
       "       1        2        3        4        5        6        7       18 \n",
       "77.70897 70.00623 65.40892 78.88483 84.32215 70.87021 74.31771 70.71257 \n",
       "      28       38       48       58       68       78 \n",
       "75.22638 62.94444 73.18021 73.26718 67.25878 68.48257 "
      ]
     },
     "metadata": {},
     "output_type": "display_data"
    }
   ],
   "source": [
    "tapply(myFemale$Age, myFemale$Race, mean, na.rm = TRUE)"
   ]
  },
  {
   "cell_type": "code",
   "execution_count": 17,
   "id": "c2dcbbba-3c4a-4b56-9ccd-9608d73c2f02",
   "metadata": {},
   "outputs": [],
   "source": [
    "myMale <- myDF[myDF$Sex == \"M\", ]"
   ]
  },
  {
   "cell_type": "code",
   "execution_count": 19,
   "id": "374a3ece-71c6-4d81-895c-a3ecebf7c8e7",
   "metadata": {},
   "outputs": [
    {
     "data": {
      "text/plain": [
       "       1        2        3        4        5        6        7       18 \n",
       "71.38702 62.77403 59.34319 74.80935 79.25332 66.42105 70.43836 65.89437 \n",
       "      28       38       48       58       68       78 \n",
       "70.36849 58.83569 67.28077 64.43243 61.19678 61.08548 "
      ]
     },
     "metadata": {},
     "output_type": "display_data"
    }
   ],
   "source": [
    "tapply(myMale$Age, myMale$Race, mean, na.rm = TRUE)"
   ]
  },
  {
   "cell_type": "markdown",
   "id": "0d552245-b4d6-474a-9cc9-fa7b8e674d55",
   "metadata": {},
   "source": [
    "4b.\n",
    "Average ages at time of death for...\n",
    "| | | Female: \n",
    "White -> 77.70897\n",
    "| Black -> 70.00623\n",
    "| American Indian (includes Aleuts and Eskimos) -> 65.40892\n",
    "| Chinese -> 78.88483\n",
    "| Japanese -> 84.32215\n",
    "| Hawaiian (includes Part-Hawaiian) -> 70.87021\n",
    "| Filipino -> 74.31771\n",
    "| Asian Indian -> 70.71257\n",
    "| Korean -> 75.22638\n",
    "| Samoan -> 62.94444\n",
    "| Vietnamese -> 73.18021\n",
    "| Guamanian -> 73.26718\n",
    "| Other Asian or Pacific Islander in areas reporting codes 18-58 -> 67.25878\n",
    "| Combined other Asian or Pacific Islander, includes codes 18-68 for areas that do not report them separately -> 68.48257\n",
    "\n",
    "| | | Male: \n",
    "| White -> 71.38702\n",
    "| Black -> 62.77403\n",
    "| American Indian (includes Aleuts and Eskimos) -> 59.34319\n",
    "| Chinese -> 74.80935\n",
    "| Japanese -> 79.25332\n",
    "| Hawaiian (includes Part-Hawaiian) -> 66.42105\n",
    "| Filipino -> 70.43836\n",
    "| Asian Indian -> 65.89437\n",
    "| Korean -> 70.36849\n",
    "| Samoan -> 58.83569\n",
    "| Vietnamese -> 67.28077\n",
    "| Guamanian -> 64.43243\n",
    "| Other Asian or Pacific Islander in areas reporting codes 18-58 -> 61.19678\n",
    "| Combined other Asian or Pacific Islander, includes codes 18-68 for areas that do not report them separately -> 61.08548"
   ]
  },
  {
   "cell_type": "markdown",
   "id": "88c9cdac-3e92-498f-83fa-e089bfc44ac8",
   "metadata": {},
   "source": [
    "## Question 5"
   ]
  },
  {
   "cell_type": "code",
   "execution_count": 49,
   "id": "d370d7c9-06db-42b9-b75f-240481a5c491",
   "metadata": {},
   "outputs": [],
   "source": [
    "myDF <- read.csv(\"/anvil/projects/tdm/data/olympics/athlete_events.csv\", stringsAsFactors=TRUE)"
   ]
  },
  {
   "cell_type": "code",
   "execution_count": 50,
   "id": "7c969fc4-6127-495f-be3f-5355c94895b3",
   "metadata": {},
   "outputs": [],
   "source": [
    "options(jupyter.rich_display = F)"
   ]
  },
  {
   "cell_type": "code",
   "execution_count": 51,
   "id": "dc69726c-6957-46c0-b8d9-f5672dcf748d",
   "metadata": {},
   "outputs": [],
   "source": [
    "options(repr.matrix.max.cols=30, repr.matrix.max.rows=200)"
   ]
  },
  {
   "cell_type": "code",
   "execution_count": 4,
   "id": "06bc5534-ebfe-42c0-b398-1b8ab8ee5541",
   "metadata": {},
   "outputs": [
    {
     "data": {
      "text/plain": [
       "  ID Name                     Sex Age Height Weight Team           NOC\n",
       "1 1  A Dijiang                M   24  180    80     China          CHN\n",
       "2 2  A Lamusi                 M   23  170    60     China          CHN\n",
       "3 3  Gunnar Nielsen Aaby      M   24   NA    NA     Denmark        DEN\n",
       "4 4  Edgar Lindenau Aabye     M   34   NA    NA     Denmark/Sweden DEN\n",
       "5 5  Christine Jacoba Aaftink F   21  185    82     Netherlands    NED\n",
       "6 5  Christine Jacoba Aaftink F   21  185    82     Netherlands    NED\n",
       "  Games       Year Season City      Sport        \n",
       "1 1992 Summer 1992 Summer Barcelona Basketball   \n",
       "2 2012 Summer 2012 Summer London    Judo         \n",
       "3 1920 Summer 1920 Summer Antwerpen Football     \n",
       "4 1900 Summer 1900 Summer Paris     Tug-Of-War   \n",
       "5 1988 Winter 1988 Winter Calgary   Speed Skating\n",
       "6 1988 Winter 1988 Winter Calgary   Speed Skating\n",
       "  Event                              Medal\n",
       "1 Basketball Men's Basketball        NA   \n",
       "2 Judo Men's Extra-Lightweight       NA   \n",
       "3 Football Men's Football            NA   \n",
       "4 Tug-Of-War Men's Tug-Of-War        Gold \n",
       "5 Speed Skating Women's 500 metres   NA   \n",
       "6 Speed Skating Women's 1,000 metres NA   "
      ]
     },
     "metadata": {},
     "output_type": "display_data"
    }
   ],
   "source": [
    "head(myDF)"
   ]
  },
  {
   "cell_type": "code",
   "execution_count": 52,
   "id": "9094c3b6-24aa-43ff-9a4d-c96741907c95",
   "metadata": {},
   "outputs": [],
   "source": [
    "meanResults <- tapply(myDF$Weight, myDF$NOC, mean, na.rm = TRUE)"
   ]
  },
  {
   "cell_type": "code",
   "execution_count": 53,
   "id": "2adea7cd-4235-4b49-acfc-97930375d2d5",
   "metadata": {},
   "outputs": [
    {
     "data": {
      "image/png": "[encoded data removed]",
      "text/plain": [
       "Plot with title \"Mean of Athletes Weight vs. Country of Origin\""
      ]
     },
     "metadata": {
      "image/png": {
       "height": 420,
       "width": 420
      }
     },
     "output_type": "display_data"
    }
   ],
   "source": [
    "barplot(meanResults, main = \"Mean of Athletes Weight vs. Country of Origin\", xlab = \"Country\", ylab = \"Weight\")"
   ]
  },
  {
   "cell_type": "code",
   "execution_count": 30,
   "id": "fc71d42e-cffe-4dd3-8a58-ca2bc2587c2f",
   "metadata": {},
   "outputs": [],
   "source": [
    "myDF <- read.csv(\"/anvil/projects/tdm/data/death_records/DeathRecords.csv\", stringsAsFactors = TRUE)"
   ]
  },
  {
   "cell_type": "code",
   "execution_count": 31,
   "id": "925f2655-3e0c-480f-b3e1-2acf23621174",
   "metadata": {},
   "outputs": [],
   "source": [
    "options(jupyter.rich_display = F)"
   ]
  },
  {
   "cell_type": "code",
   "execution_count": 32,
   "id": "3060ff7b-dacd-4ea2-9cde-ad20163ef9aa",
   "metadata": {},
   "outputs": [],
   "source": [
    "options(repr.matrix.max.cols=50, repr.matrix.max.rows=200)"
   ]
  },
  {
   "cell_type": "code",
   "execution_count": 33,
   "id": "5d34441d-f632-4f5b-9c7e-e941f63c550d",
   "metadata": {},
   "outputs": [
    {
     "data": {
      "text/plain": [
       "  Id ResidentStatus Education1989Revision Education2003Revision\n",
       "1 1  1              0                     2                    \n",
       "2 2  1              0                     2                    \n",
       "3 3  1              0                     7                    \n",
       "4 4  1              0                     6                    \n",
       "5 5  1              0                     3                    \n",
       "6 6  1              0                     5                    \n",
       "  EducationReportingFlag MonthOfDeath Sex AgeType Age AgeSubstitutionFlag\n",
       "1 1                      1            M   1       87  0                  \n",
       "2 1                      1            M   1       58  0                  \n",
       "3 1                      1            F   1       75  0                  \n",
       "4 1                      1            M   1       74  0                  \n",
       "5 1                      1            M   1       64  0                  \n",
       "6 1                      1            F   1       93  0                  \n",
       "  AgeRecode52 AgeRecode27 AgeRecode12 InfantAgeRecode22\n",
       "1 43          23          11          0                \n",
       "2 37          17           8          0                \n",
       "3 41          21          10          0                \n",
       "4 40          20           9          0                \n",
       "5 38          18           8          0                \n",
       "6 44          24          11          0                \n",
       "  PlaceOfDeathAndDecedentsStatus MaritalStatus DayOfWeekOfDeath CurrentDataYear\n",
       "1 4                              M             4                2014           \n",
       "2 4                              D             3                2014           \n",
       "3 4                              W             2                2014           \n",
       "4 6                              D             1                2014           \n",
       "5 4                              D             2                2014           \n",
       "6 6                              W             4                2014           \n",
       "  InjuryAtWork MannerOfDeath MethodOfDisposition Autopsy ActivityCode\n",
       "1 U            7             C                   N       99          \n",
       "2 U            7             C                   N       99          \n",
       "3 U            7             C                   N       99          \n",
       "4 U            7             C                   N       99          \n",
       "5 U            7             C                   N       99          \n",
       "6 U            7             C                   N       99          \n",
       "  PlaceOfInjury Icd10Code CauseRecode358 CauseRecode113 InfantCauseRecode130\n",
       "1 99            I64       238             70            0                   \n",
       "2 99            I250      214             62            0                   \n",
       "3 99            J449      267             86            0                   \n",
       "4 99            I48       228             68            0                   \n",
       "5 99            I250      214             62            0                   \n",
       "6 99            K137      280            111            0                   \n",
       "  CauseRecode39 NumberOfEntityAxisConditions NumberOfRecordAxisConditions Race\n",
       "1 24            1                            1                            1   \n",
       "2 21            3                            3                            1   \n",
       "3 28            2                            2                            1   \n",
       "4 22            3                            3                            1   \n",
       "5 21            1                            1                            1   \n",
       "6 37            5                            5                            1   \n",
       "  BridgedRaceFlag RaceImputationFlag RaceRecode3 RaceRecode5 HispanicOrigin\n",
       "1 0               0                  1           1           100           \n",
       "2 0               0                  1           1           100           \n",
       "3 0               0                  1           1           100           \n",
       "4 0               0                  1           1           100           \n",
       "5 0               0                  1           1           100           \n",
       "6 0               0                  1           1           100           \n",
       "  HispanicOriginRaceRecode\n",
       "1 6                       \n",
       "2 6                       \n",
       "3 6                       \n",
       "4 6                       \n",
       "5 6                       \n",
       "6 6                       "
      ]
     },
     "metadata": {},
     "output_type": "display_data"
    }
   ],
   "source": [
    "head(myDF)"
   ]
  },
  {
   "cell_type": "code",
   "execution_count": 41,
   "id": "9311ab28-21f6-40f9-9518-8ef52e414738",
   "metadata": {},
   "outputs": [],
   "source": [
    "myFemale <- myDF[myDF$Sex == \"F\", ]"
   ]
  },
  {
   "cell_type": "code",
   "execution_count": 43,
   "id": "6426803b-1d48-4c29-a27f-cde2dedf9469",
   "metadata": {},
   "outputs": [],
   "source": [
    "meanFemaleResults <- tapply(myFemale$Age, myFemale$Race, mean, na.rm = TRUE)"
   ]
  },
  {
   "cell_type": "code",
   "execution_count": 48,
   "id": "61172789-07b5-47c8-a350-db64472716ec",
   "metadata": {},
   "outputs": [
    {
     "data": {
      "image/png": "[encoded data removed]",
      "text/plain": [
       "Plot with title \"Mean of Females for Month of Death vs. Race\""
      ]
     },
     "metadata": {
      "image/png": {
       "height": 420,
       "width": 420
      }
     },
     "output_type": "display_data"
    }
   ],
   "source": [
    "barplot(meanFemaleResults, main = \"Mean of Females for Month of Death vs. Race\", xlab = \"Race\", ylab = \"Month of Death\")"
   ]
  },
  {
   "cell_type": "code",
   "execution_count": null,
   "id": "cd3c8822-3b2c-4ea9-ba38-06d5bbad0ca0",
   "metadata": {},
   "outputs": [],
   "source": []
  },
  {
   "cell_type": "markdown",
   "id": "9fbf00fb-2418-460f-ae94-2a32b0c28952",
   "metadata": {},
   "source": [
    "5a. Within the barplot comparing the mean of the Athletes vs Country of Origin, I see that PAK, AFG, and MEX have the three largest overall means, showcasing that the overall average weights within those countries were higher. Other than those three, all of the other weight to the rest of the countries are around the same range.\n",
    "\n",
    "5b. Within the barplot demonstrating the data for the average age at the time of death for females, I see that there is a peak for the race of Hawaiian with their average age of death being the highest. On top of that, the minimum average age of death was for the race of Samoan, meaning there could be some disadvantage for one race over the other for very select races in the data set because of environmental conditions within a specific country they must be in. "
   ]
  },
  {
   "cell_type": "markdown",
   "id": "f76442d6-d02e-4f26-b9d6-c3183e1d6929",
   "metadata": {},
   "source": [
    "## Pledge\n",
    "\n",
    "By submitting this work I hereby pledge that this is my own, personal work. I've acknowledged in the designated place at the top of this file all sources that I used to complete said work, including but not limited to: online resources, books, and electronic communications. I've noted all collaboration with fellow students and/or TA's. I did not copy or plagiarize another's work.\n",
    "\n",
    "> As a Boilermaker pursuing academic excellence, I pledge to be honest and true in all that I do. Accountable together – We are Purdue."
   ]
  }
 ],
 "metadata": {
  "kernelspec": {
   "display_name": "seminar-r",
   "language": "R",
   "name": "seminar-r"
  },
  "language_info": {
   "codemirror_mode": "r",
   "file_extension": ".r",
   "mimetype": "text/x-r-source",
   "name": "R",
   "pygments_lexer": "r",
   "version": "4.3.1"
  }
 },
 "nbformat": 4,
 "nbformat_minor": 5
}
